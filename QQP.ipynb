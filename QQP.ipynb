{
  "nbformat": 4,
  "nbformat_minor": 0,
  "metadata": {
    "kernelspec": {
      "display_name": "Python 3",
      "language": "python",
      "name": "python3"
    },
    "language_info": {
      "codemirror_mode": {
        "name": "ipython",
        "version": 3
      },
      "file_extension": ".py",
      "mimetype": "text/x-python",
      "name": "python",
      "nbconvert_exporter": "python",
      "pygments_lexer": "ipython3",
      "version": "3.6.5"
    },
    "colab": {
      "name": "QQP.ipynb",
      "version": "0.3.2",
      "provenance": [],
      "toc_visible": true,
      "include_colab_link": true
    }
  },
  "cells": [
    {
      "cell_type": "markdown",
      "metadata": {
        "id": "view-in-github",
        "colab_type": "text"
      },
      "source": [
        "<a href=\"https://colab.research.google.com/github/arkothiwala/QuoraQuestionPairs/blob/master/QQP.ipynb\" target=\"_parent\"><img src=\"https://colab.research.google.com/assets/colab-badge.svg\" alt=\"Open In Colab\"/></a>"
      ]
    },
    {
      "cell_type": "code",
      "metadata": {
        "id": "k1a-pMNd-Roy",
        "colab_type": "code",
        "colab": {
          "base_uri": "https://localhost:8080/",
          "height": 35
        },
        "outputId": "fe2bd6f5-c762-4020-8ebc-be15e9a4dff8"
      },
      "source": [
        "!mkdir ~/.kaggle\n",
        "!cp ./kaggle.json ~/.kaggle/kaggle.json #Need to upload kaggle.json file from C:\\Users\\<USERNAME>\\.kaggle\\"
      ],
      "execution_count": 18,
      "outputs": [
        {
          "output_type": "stream",
          "text": [
            "mkdir: cannot create directory ‘/root/.kaggle’: File exists\n"
          ],
          "name": "stdout"
        }
      ]
    },
    {
      "cell_type": "markdown",
      "metadata": {
        "id": "f7QuC6LSCaOo",
        "colab_type": "text"
      },
      "source": [
        "### Download Competition Data"
      ]
    },
    {
      "cell_type": "code",
      "metadata": {
        "id": "jTRdGzC8AEYB",
        "colab_type": "code",
        "colab": {}
      },
      "source": [
        "# Downloading Data\n",
        "!kaggle competitions download -c quora-question-pairs\n",
        "# Extracting the data\n",
        "import zipfile\n",
        "zip_ref = zipfile.ZipFile('train.csv.zip', 'r')\n",
        "zip_ref.extractall()\n",
        "zip_ref.close()\n",
        "zip_ref = zipfile.ZipFile('test.csv.zip', 'r')\n",
        "zip_ref.extractall()\n",
        "zip_ref.close()"
      ],
      "execution_count": 0,
      "outputs": []
    },
    {
      "cell_type": "markdown",
      "metadata": {
        "id": "tY9gzRK4CVkz",
        "colab_type": "text"
      },
      "source": [
        "### Download GloVe Embeddings"
      ]
    },
    {
      "cell_type": "code",
      "metadata": {
        "id": "ve9IkY1_BDHL",
        "colab_type": "code",
        "colab": {}
      },
      "source": [
        "# Lets Download GloVe Embeddings\n",
        "import os\n",
        "import urllib.request\n",
        "urllib.request.urlretrieve('http://nlp.stanford.edu/data/glove.840B.300d.zip', 'glove840B.zip')\n",
        "\n",
        "# Unzip the Embeddings\n",
        "import zipfile\n",
        "zip_ref = zipfile.ZipFile('glove840B.zip', 'r')\n",
        "zip_ref.extractall('embeddings')\n",
        "zip_ref.close()\n",
        "\n",
        "glove = './embeddings/glove.840B.300d.txt'"
      ],
      "execution_count": 0,
      "outputs": []
    },
    {
      "cell_type": "markdown",
      "metadata": {
        "id": "D5Ka_Vm4COrv",
        "colab_type": "text"
      },
      "source": [
        "### Load Embeddings"
      ]
    },
    {
      "cell_type": "code",
      "metadata": {
        "id": "z8O5GNh5CNJx",
        "colab_type": "code",
        "colab": {}
      },
      "source": [
        "def load_embed(file):\n",
        "    def get_coefs(word,*arr): \n",
        "        return word, np.asarray(arr, dtype='float32')\n",
        "    \n",
        "    if file == '../input/embeddings/wiki-news-300d-1M/wiki-news-300d-1M.vec':\n",
        "        embeddings_index = dict(get_coefs(*o.split(\" \")) for o in open(file) if len(o)>100)\n",
        "    else:\n",
        "        embeddings_index = dict(get_coefs(*o.split(\" \")) for o in open(file, encoding='latin'))\n",
        "        \n",
        "    return embeddings_index\n",
        "embed_glove = load_embed(glove)"
      ],
      "execution_count": 0,
      "outputs": []
    },
    {
      "cell_type": "code",
      "metadata": {
        "id": "ZVB9CYtd8j-x",
        "colab_type": "code",
        "colab": {
          "base_uri": "https://localhost:8080/",
          "height": 500
        },
        "outputId": "96cd95b5-ac4a-45c3-f110-34182c29baea"
      },
      "source": [
        "# Kaggle Stuff\n",
        "!pip install kaggle\n",
        "from googleapiclient.discovery import build\n",
        "import io, os\n",
        "from googleapiclient.http import MediaIoBaseDownload\n",
        "from google.colab import auth\n",
        "auth.authenticate_user()\n",
        "drive_service = build('drive', 'v3')\n",
        "results = drive_service.files().list(q=\"name = 'kaggle.json'\", fields=\"files(id)\").execute()\n",
        "print(results)\n",
        "kaggle_api_key = results.get('files', [])\n",
        "filename = \"/root/.kaggle/kaggle.json\"  # NOTE: This is different from the Medium post!\n",
        "os.makedirs(os.path.dirname(filename), exist_ok=True)\n",
        "print(kaggle_api_key)\n",
        "request = drive_service.files().get_media(fileId=kaggle_api_key[0]['id'])\n",
        "fh = io.FileIO(filename, 'wb')\n",
        "downloader = MediaIoBaseDownload(fh, request)\n",
        "done = False\n",
        "while done is False:\n",
        "    status, done = downloader.next_chunk()\n",
        "    print(\"Download %d%%.\" % int(status.progress() * 100))\n",
        "os.chmod(filename, 600)"
      ],
      "execution_count": 15,
      "outputs": [
        {
          "output_type": "stream",
          "text": [
            "Requirement already satisfied: kaggle in /usr/local/lib/python3.6/dist-packages (1.5.5)\n",
            "Requirement already satisfied: tqdm in /usr/local/lib/python3.6/dist-packages (from kaggle) (4.28.1)\n",
            "Requirement already satisfied: certifi in /usr/local/lib/python3.6/dist-packages (from kaggle) (2019.6.16)\n",
            "Requirement already satisfied: requests in /usr/local/lib/python3.6/dist-packages (from kaggle) (2.21.0)\n",
            "Requirement already satisfied: python-slugify in /usr/local/lib/python3.6/dist-packages (from kaggle) (3.0.3)\n",
            "Requirement already satisfied: python-dateutil in /usr/local/lib/python3.6/dist-packages (from kaggle) (2.5.3)\n",
            "Requirement already satisfied: six>=1.10 in /usr/local/lib/python3.6/dist-packages (from kaggle) (1.12.0)\n",
            "Requirement already satisfied: urllib3<1.25,>=1.21.1 in /usr/local/lib/python3.6/dist-packages (from kaggle) (1.24.3)\n",
            "Requirement already satisfied: idna<2.9,>=2.5 in /usr/local/lib/python3.6/dist-packages (from requests->kaggle) (2.8)\n",
            "Requirement already satisfied: chardet<3.1.0,>=3.0.2 in /usr/local/lib/python3.6/dist-packages (from requests->kaggle) (3.0.4)\n",
            "Requirement already satisfied: text-unidecode==1.2 in /usr/local/lib/python3.6/dist-packages (from python-slugify->kaggle) (1.2)\n",
            "{'files': []}\n",
            "[]\n"
          ],
          "name": "stdout"
        },
        {
          "output_type": "error",
          "ename": "IndexError",
          "evalue": "ignored",
          "traceback": [
            "\u001b[0;31m---------------------------------------------------------------------------\u001b[0m",
            "\u001b[0;31mIndexError\u001b[0m                                Traceback (most recent call last)",
            "\u001b[0;32m<ipython-input-15-867b9d19c406>\u001b[0m in \u001b[0;36m<module>\u001b[0;34m()\u001b[0m\n\u001b[1;32m     12\u001b[0m \u001b[0mos\u001b[0m\u001b[0;34m.\u001b[0m\u001b[0mmakedirs\u001b[0m\u001b[0;34m(\u001b[0m\u001b[0mos\u001b[0m\u001b[0;34m.\u001b[0m\u001b[0mpath\u001b[0m\u001b[0;34m.\u001b[0m\u001b[0mdirname\u001b[0m\u001b[0;34m(\u001b[0m\u001b[0mfilename\u001b[0m\u001b[0;34m)\u001b[0m\u001b[0;34m,\u001b[0m \u001b[0mexist_ok\u001b[0m\u001b[0;34m=\u001b[0m\u001b[0;32mTrue\u001b[0m\u001b[0;34m)\u001b[0m\u001b[0;34m\u001b[0m\u001b[0;34m\u001b[0m\u001b[0m\n\u001b[1;32m     13\u001b[0m \u001b[0mprint\u001b[0m\u001b[0;34m(\u001b[0m\u001b[0mkaggle_api_key\u001b[0m\u001b[0;34m)\u001b[0m\u001b[0;34m\u001b[0m\u001b[0;34m\u001b[0m\u001b[0m\n\u001b[0;32m---> 14\u001b[0;31m \u001b[0mrequest\u001b[0m \u001b[0;34m=\u001b[0m \u001b[0mdrive_service\u001b[0m\u001b[0;34m.\u001b[0m\u001b[0mfiles\u001b[0m\u001b[0;34m(\u001b[0m\u001b[0;34m)\u001b[0m\u001b[0;34m.\u001b[0m\u001b[0mget_media\u001b[0m\u001b[0;34m(\u001b[0m\u001b[0mfileId\u001b[0m\u001b[0;34m=\u001b[0m\u001b[0mkaggle_api_key\u001b[0m\u001b[0;34m[\u001b[0m\u001b[0;36m0\u001b[0m\u001b[0;34m]\u001b[0m\u001b[0;34m[\u001b[0m\u001b[0;34m'id'\u001b[0m\u001b[0;34m]\u001b[0m\u001b[0;34m)\u001b[0m\u001b[0;34m\u001b[0m\u001b[0;34m\u001b[0m\u001b[0m\n\u001b[0m\u001b[1;32m     15\u001b[0m \u001b[0mfh\u001b[0m \u001b[0;34m=\u001b[0m \u001b[0mio\u001b[0m\u001b[0;34m.\u001b[0m\u001b[0mFileIO\u001b[0m\u001b[0;34m(\u001b[0m\u001b[0mfilename\u001b[0m\u001b[0;34m,\u001b[0m \u001b[0;34m'wb'\u001b[0m\u001b[0;34m)\u001b[0m\u001b[0;34m\u001b[0m\u001b[0;34m\u001b[0m\u001b[0m\n\u001b[1;32m     16\u001b[0m \u001b[0mdownloader\u001b[0m \u001b[0;34m=\u001b[0m \u001b[0mMediaIoBaseDownload\u001b[0m\u001b[0;34m(\u001b[0m\u001b[0mfh\u001b[0m\u001b[0;34m,\u001b[0m \u001b[0mrequest\u001b[0m\u001b[0;34m)\u001b[0m\u001b[0;34m\u001b[0m\u001b[0;34m\u001b[0m\u001b[0m\n",
            "\u001b[0;31mIndexError\u001b[0m: list index out of range"
          ]
        }
      ]
    },
    {
      "cell_type": "code",
      "metadata": {
        "id": "yJo_LPkozXUK",
        "colab_type": "code",
        "colab": {}
      },
      "source": [
        "?import numpy as np # linear algebra\n",
        "import pandas as pd # data processing, CSV file I/O (e.g. pd.read_csv)\n",
        "import matplotlib.pyplot as plt\n",
        "import re\n",
        "\n",
        "from nltk.corpus import stopwords \n",
        "from nltk.tokenize import word_tokenize \n",
        "\n",
        "#%%capture\n",
        "from tqdm import tqdm_notebook as tqdm\n",
        "#tqdm().pandas()"
      ],
      "execution_count": 0,
      "outputs": []
    },
    {
      "cell_type": "code",
      "metadata": {
        "id": "Zrot3TtFzXUf",
        "colab_type": "code",
        "colab": {}
      },
      "source": [
        "train_df = pd.read_csv('train.csv').dropna()\n",
        "#test_df = pd.read_csv('../input/test.csv').dropna()\n",
        "q1 = train_df.question1"
      ],
      "execution_count": 0,
      "outputs": []
    },
    {
      "cell_type": "markdown",
      "metadata": {
        "id": "cmPAkVGqzXUs",
        "colab_type": "text"
      },
      "source": [
        "## 1 Text Pre-processing"
      ]
    },
    {
      "cell_type": "markdown",
      "metadata": {
        "id": "20u9ElUHzXUw",
        "colab_type": "text"
      },
      "source": [
        "### 1.1. Put sentence between Start Stop Token"
      ]
    },
    {
      "cell_type": "code",
      "metadata": {
        "id": "sjmi9X_ZzXUz",
        "colab_type": "code",
        "colab": {}
      },
      "source": [
        "def addStartStopTokens(series):\n",
        "    return '<start> ' + series.str.lower() + ' <stop>'"
      ],
      "execution_count": 0,
      "outputs": []
    },
    {
      "cell_type": "markdown",
      "metadata": {
        "id": "OigeszyOzXU7",
        "colab_type": "text"
      },
      "source": [
        "### 1.2. replace numbers with \"number\""
      ]
    },
    {
      "cell_type": "code",
      "metadata": {
        "id": "JgmGVDi0zXVA",
        "colab_type": "code",
        "colab": {}
      },
      "source": [
        "def replaceNumbers(series):\n",
        "    # Space around number is added to ensure that\n",
        "    # number was a single entity and not with a word (e.g. F1 visa, Audi A4)\n",
        "    total = series.str.contains(' [\\d]+ ').sum()\n",
        "    print(\"{:.2f} % queries with numbers were processed\".format(total*100/len(series)))\n",
        "    return series.str.replace(' [+-]?([0-9]*[.])?[0-9]+ ',' number ')#.replace(' [\\d]+(.[\\d]+) ',' number ') # Still misses case of float numbers"
      ],
      "execution_count": 0,
      "outputs": []
    },
    {
      "cell_type": "markdown",
      "metadata": {
        "id": "gj6LUarSzXVI",
        "colab_type": "text"
      },
      "source": [
        "### 1.3. add space around non alpha-numeric chars"
      ]
    },
    {
      "cell_type": "code",
      "metadata": {
        "id": "EXqXZ0MjzXVM",
        "colab_type": "code",
        "colab": {}
      },
      "source": [
        "def processNonAlNumChars(series):\n",
        "    # '\\1' does not work with out `r` prefix and () grouping\n",
        "    return series.str.replace(r'([^0-9a-zA-Z\\' ]+)',r' \\1 ') "
      ],
      "execution_count": 0,
      "outputs": []
    },
    {
      "cell_type": "markdown",
      "metadata": {
        "id": "WJe9sbnHzXVX",
        "colab_type": "text"
      },
      "source": [
        "### 1.4. ephostropis\n",
        "\n",
        "1. Three (including apostrophe) long: I'm, I'd\n",
        "2. Four long: it's, I've, he's, I'll, he'd, we'd, it'd\n",
        "3. Five long: don't, can't, we're, isn't, won't, we've, we'll, she's, you'd, let's, who's, he'll, it'll, she'd, ain't, who'd\n",
        "4. Six long: that's, didn't, you're, you'll, what's, wasn't, you've, aren't, here's, hasn't, hadn't, they'd, here's, who've, she'll, who'll, that'd\n",
        "5. Seven long: doesn't, there's, they're, world's, haven't, they've, weren't, they'll, o'clock, mustn't, needn't, must've, that'll\n",
        "6. Eight long: couldn't, wouldn't, could've, would've, there'll\n",
        "7. Nine long: shouldn't, should've\n",
        "\n",
        "Most of the words follow certain pattern with certain exceptions like let's, can't, ain't, shan't - can be ignored<br>\n",
        "These words needs to be converted first"
      ]
    },
    {
      "cell_type": "code",
      "metadata": {
        "id": "QjcT_JtlzXVc",
        "colab_type": "code",
        "colab": {}
      },
      "source": [
        "def processAphostrophies(series):\n",
        "    '''\n",
        "    Before calling this function, make sure that `space around alphaNum chars are not added`\n",
        "    '''\n",
        "    series = series.str.replace(\" can't \", ' cannot ')\n",
        "    series = series.str.replace(\" ain't \", ' arenot ')\n",
        "    series = series.str.replace(\" won't \", ' willnot ')\n",
        "    series = series.str.replace(\" let's \", ' letus ')# Should I have preceeding space ? (fails for i'm a boy)\n",
        "    series = series.str.replace(r\"([a-z]+)'m \", r\"\\1 am \")\n",
        "    series = series.str.replace(r\"([a-z]+)'d \", r\"\\1 had \")\n",
        "    series = series.str.replace(r\"([a-z]+)'s \", r\"\\1 is \")\n",
        "    series = series.str.replace(r\"([a-z]+)'ve \", r\"\\1 have \")\n",
        "    series = series.str.replace(r\"([a-z]+)'ll \", r\"\\1 will \")\n",
        "    series = series.str.replace(r\"([a-z]+)n't \", r\"\\1 not \")\n",
        "    series = series.str.replace(r\"([a-z]+)'re \", r\"\\1 are \")\n",
        "    return series"
      ],
      "execution_count": 0,
      "outputs": []
    },
    {
      "cell_type": "markdown",
      "metadata": {
        "id": "qf4ZHOiZzXVn",
        "colab_type": "text"
      },
      "source": [
        "### 1.5 - Remove non-ASCII charecters"
      ]
    },
    {
      "cell_type": "code",
      "metadata": {
        "id": "-XGgfP45zXVr",
        "colab_type": "code",
        "colab": {}
      },
      "source": [
        "def removeNonASCII(series):\n",
        "    return series.str.replace(r'[^\\x00-\\x7F]+',' ')"
      ],
      "execution_count": 0,
      "outputs": []
    },
    {
      "cell_type": "markdown",
      "metadata": {
        "id": "VqGiPrbVzXV4",
        "colab_type": "text"
      },
      "source": [
        "### 1.6 - Price related preprocessing (20k, 100m / 100mn, 2b / 1bn)"
      ]
    },
    {
      "cell_type": "code",
      "metadata": {
        "id": "XzrFNbgjzXV6",
        "colab_type": "code",
        "colab": {}
      },
      "source": [
        "def processPriceAcronyms(series):\n",
        "    series = series.str.replace(r\" ([\\d]+)(k|m|mn|b|bn) \",r\" \\1 \") #While fixing 10k, 5bn i found mg, kg, mb etc\n",
        "    #series.str.replace(r\"([\\d]+)([a-z]{1,2,3})\",r\" \\1 \\2 \") # generalizes upto 3 chars (to include kgs, rpm as well)\n",
        "    return series.str.replace(r\"([\\d]+)(mg|gm|kg|kb|mb|gb|tb)\",r\" \\1 \\2 \") #targets only specific words"
      ],
      "execution_count": 0,
      "outputs": []
    },
    {
      "cell_type": "markdown",
      "metadata": {
        "id": "LmeumRITzXWJ",
        "colab_type": "text"
      },
      "source": [
        "### 1.7 - misc"
      ]
    },
    {
      "cell_type": "code",
      "metadata": {
        "id": "UoV8Uio3zXWN",
        "colab_type": "code",
        "colab": {}
      },
      "source": [
        "def alternatives(series):\n",
        "    series = series.str.replace(r\"(no|some|any)body\",r\"\\1one\")"
      ],
      "execution_count": 0,
      "outputs": []
    },
    {
      "cell_type": "markdown",
      "metadata": {
        "id": "JKRxEof9zXWS",
        "colab_type": "text"
      },
      "source": [
        "## 2. Processing"
      ]
    },
    {
      "cell_type": "code",
      "metadata": {
        "id": "651Sm5kozXWV",
        "colab_type": "code",
        "colab": {}
      },
      "source": [
        "def cleanText(series):\n",
        "    series = addStartStopTokens(series)\n",
        "    series = replaceNumbers(series)\n",
        "    series = processNonAlNumChars(series) # It will seperate apostrophies as well\n",
        "    series = replaceNumbers(series)\n",
        "\n",
        "    series = processAphostrophies(series)\n",
        "    series = replaceNumbers(series)\n",
        "\n",
        "    series = series.str.replace(\"'\",\" ' \")\n",
        "    series = removeNonASCII(series)\n",
        "    series = replaceNumbers(series)\n",
        "\n",
        "    series = processPriceAcronyms(series)\n",
        "    series = replaceNumbers(series)\n",
        "    series = series.str.replace(r\"[ ]+\",\" \")\n",
        "    return series    "
      ],
      "execution_count": 0,
      "outputs": []
    },
    {
      "cell_type": "code",
      "metadata": {
        "id": "qdE6JCZszXWh",
        "colab_type": "code",
        "colab": {},
        "outputId": "6bed3d80-b0ec-4006-dcf3-1ab70ace7246"
      },
      "source": [
        "cleanedQ1 = cleanText(train_df.question1)\n",
        "cleanedQ2 = cleanText(train_df.question2)"
      ],
      "execution_count": 0,
      "outputs": [
        {
          "output_type": "stream",
          "text": [
            "5.57 % queries with numbers were processed\n",
            "4.60 % queries with numbers were processed\n",
            "0.00 % queries with numbers were processed\n",
            "0.11 % queries with numbers were processed\n",
            "0.44 % queries with numbers were processed\n",
            "5.81 % queries with numbers were processed\n",
            "4.76 % queries with numbers were processed\n",
            "0.01 % queries with numbers were processed\n",
            "0.11 % queries with numbers were processed\n",
            "0.45 % queries with numbers were processed\n"
          ],
          "name": "stdout"
        }
      ]
    },
    {
      "cell_type": "code",
      "metadata": {
        "id": "y_4H80AtzXWr",
        "colab_type": "code",
        "colab": {}
      },
      "source": [
        "cleanedQ1 = cleanedQ1.str.replace(' < start > ','')\n",
        "cleanedQ1 = cleanedQ1.str.replace(' < stop > ','')\n",
        "cleanedQ2 = cleanedQ2.str.replace(' < start > ','')\n",
        "cleanedQ2 = cleanedQ2.str.replace(' < stop > ','')"
      ],
      "execution_count": 0,
      "outputs": []
    },
    {
      "cell_type": "code",
      "metadata": {
        "id": "OwlvzMdkzXWx",
        "colab_type": "code",
        "colab": {}
      },
      "source": [
        "train_df.question1 = cleanedQ1\n",
        "train_df.question2 = cleanedQ2"
      ],
      "execution_count": 0,
      "outputs": []
    },
    {
      "cell_type": "code",
      "metadata": {
        "id": "nPUdR2JMzXW2",
        "colab_type": "code",
        "colab": {}
      },
      "source": [
        "train_df.to_csv('processed questions.csv')"
      ],
      "execution_count": 0,
      "outputs": []
    },
    {
      "cell_type": "markdown",
      "metadata": {
        "id": "nhy-8AP4zXXB",
        "colab_type": "text"
      },
      "source": [
        "### Now we have processed data and will not get back again"
      ]
    },
    {
      "cell_type": "markdown",
      "metadata": {
        "id": "AaZC_lPyzXXD",
        "colab_type": "text"
      },
      "source": [
        "## 3. Score Calculation"
      ]
    },
    {
      "cell_type": "markdown",
      "metadata": {
        "id": "XVnvybKrzXXJ",
        "colab_type": "text"
      },
      "source": [
        "### 3.1 Processing for only score calculation"
      ]
    },
    {
      "cell_type": "code",
      "metadata": {
        "id": "NdMZQKwgzXXL",
        "colab_type": "code",
        "colab": {}
      },
      "source": [
        "#stop_words = set(stopwords.words('english'))\n",
        "stop_words = ['a', 'an', 'the', 'i', 'my','me','we', 'u', 'you', 'your', 'he', 'his', 'him', 'she', 'her', 'they', 'them', 'y']\n",
        "# Should we remove is, are, of, by, it, its, to, in etc. ?"
      ],
      "execution_count": 0,
      "outputs": []
    },
    {
      "cell_type": "code",
      "metadata": {
        "id": "OHOF0o9OzXXU",
        "colab_type": "code",
        "colab": {},
        "outputId": "97992856-5669-49f2-f4f1-143e94514369"
      },
      "source": [
        "sentences_q1 = cleanedQ1.str.replace(r'([^0-9a-zA-Z ]+)',r' ').str.replace(r\"[ ]+\",\" \").to_numpy() # Remove NonAlNum Chars \n",
        "filtered_sentences_q1 = []\n",
        "\n",
        "for sentence in tqdm(sentences_q1):\n",
        "    filtered_sentence = [w for w in word_tokenize(sentence) if not w in stop_words] \n",
        "    filtered_sentences_q1.append(filtered_sentence)"
      ],
      "execution_count": 0,
      "outputs": [
        {
          "output_type": "display_data",
          "data": {
            "application/vnd.jupyter.widget-view+json": {
              "model_id": "86309f7a8e544a4e9df26b3f0d123188",
              "version_major": 2,
              "version_minor": 0
            },
            "text/plain": [
              "HBox(children=(IntProgress(value=0, max=404287), HTML(value='')))"
            ]
          },
          "metadata": {
            "tags": []
          }
        },
        {
          "output_type": "stream",
          "text": [
            "\n"
          ],
          "name": "stdout"
        }
      ]
    },
    {
      "cell_type": "code",
      "metadata": {
        "id": "x2jAcs6azXXi",
        "colab_type": "code",
        "colab": {},
        "outputId": "e5cb682d-b8e3-40e2-d312-35694e3fa1d2"
      },
      "source": [
        "sentences_q2 = cleanedQ2.str.replace(r'([^0-9a-zA-Z ]+)',r' ').str.replace(r\"[ ]+\",\" \").to_numpy() # Remove NonAlNum Chars \n",
        "filtered_sentences_q2 = []\n",
        "\n",
        "for sentence in tqdm(sentences_q2):\n",
        "    filtered_sentence = [w for w in word_tokenize(sentence) if not w in stop_words] \n",
        "    filtered_sentences_q2.append(filtered_sentence)"
      ],
      "execution_count": 0,
      "outputs": [
        {
          "output_type": "display_data",
          "data": {
            "application/vnd.jupyter.widget-view+json": {
              "model_id": "d7bb1605f274404eba56e75b18080d9a",
              "version_major": 2,
              "version_minor": 0
            },
            "text/plain": [
              "HBox(children=(IntProgress(value=0, max=404287), HTML(value='')))"
            ]
          },
          "metadata": {
            "tags": []
          }
        },
        {
          "output_type": "stream",
          "text": [
            "\n"
          ],
          "name": "stdout"
        }
      ]
    },
    {
      "cell_type": "markdown",
      "metadata": {
        "id": "7OQFrSn6zXXs",
        "colab_type": "text"
      },
      "source": [
        "#### Calculating Scores"
      ]
    },
    {
      "cell_type": "code",
      "metadata": {
        "id": "wLtX_-yTzXXu",
        "colab_type": "code",
        "colab": {},
        "outputId": "dc32ea6a-48d7-45f7-9e0a-f596a3531ca9"
      },
      "source": [
        "scores_wo_weight = []\n",
        "scores_pow1 = [] # Score with exp weight of power 1\n",
        "scores_pow2 = [] # Score with exp weight of power 2\n",
        "for q1, q2 in tqdm(zip(filtered_sentences_q1,filtered_sentences_q2)):\n",
        "    l1 = len(q1)\n",
        "    l2 = len(q2)\n",
        "    if(l1 == 0 or l2 == 0):\n",
        "        # There some points in data with single chars like ? . ! etc as Q1 or Q2 that endup with expty string\n",
        "        scores_wo_weight.append(0)\n",
        "        scores_pow1.append(0)\n",
        "        scores_pow2.append(0)\n",
        "    else:\n",
        "        overlap = len(set(q1) & set(q2))\n",
        "        weight_pow1 = np.power(np.e, -1/(np.sqrt(l1*l2)))\n",
        "        weight_pow2 = np.power(np.e, -2/(np.sqrt(l1*l2)))\n",
        "        if(weight_pow1 > 1 or weight_pow2 > 1):\n",
        "            print(weight_pow1,weight_pow2)\n",
        "            print(q1, q2)\n",
        "        normalizer = 1/np.sqrt(l1*l2)\n",
        "        scores_wo_weight.append(overlap*normalizer)\n",
        "        scores_pow1.append(overlap*normalizer*weight_pow1)\n",
        "        scores_pow2.append(overlap*normalizer*weight_pow2)"
      ],
      "execution_count": 0,
      "outputs": [
        {
          "output_type": "display_data",
          "data": {
            "application/vnd.jupyter.widget-view+json": {
              "model_id": "ffb5278a58a44e29b9afe9662a3f6710",
              "version_major": 2,
              "version_minor": 0
            },
            "text/plain": [
              "HBox(children=(IntProgress(value=1, bar_style='info', max=1), HTML(value='')))"
            ]
          },
          "metadata": {
            "tags": []
          }
        },
        {
          "output_type": "stream",
          "text": [
            "\n"
          ],
          "name": "stdout"
        }
      ]
    },
    {
      "cell_type": "markdown",
      "metadata": {
        "id": "2yG58SQLzXX6",
        "colab_type": "text"
      },
      "source": [
        "### Weight Plot Function\n",
        "<img src=\"exponential_weight_plot_desmos - Copy.png\">"
      ]
    },
    {
      "cell_type": "code",
      "metadata": {
        "id": "tbWY__KOzXX7",
        "colab_type": "code",
        "colab": {}
      },
      "source": [
        "import matplotlib.pyplot as plt"
      ],
      "execution_count": 0,
      "outputs": []
    },
    {
      "cell_type": "code",
      "metadata": {
        "id": "tS0M2N4vzXYK",
        "colab_type": "code",
        "colab": {}
      },
      "source": [
        "train_df['scores_wo_weight'] = scores_wo_weight\n",
        "train_df['scores_pow1'] = scores_pow1\n",
        "train_df['scores_pow2'] = scores_pow2\n",
        "train_df['q1_tokens'] = filtered_sentences_q1\n",
        "train_df['q2_tokens'] = filtered_sentences_q2"
      ],
      "execution_count": 0,
      "outputs": []
    },
    {
      "cell_type": "code",
      "metadata": {
        "id": "JCl8O2YHzXYS",
        "colab_type": "code",
        "colab": {}
      },
      "source": [
        "train_df.to_csv('processed_with_weights.csv')"
      ],
      "execution_count": 0,
      "outputs": []
    },
    {
      "cell_type": "markdown",
      "metadata": {
        "id": "QBxmr2L5zXYc",
        "colab_type": "text"
      },
      "source": [
        "### Huge mistake that I had made in score calculation (one silly and other conceptual)\n",
        "\n",
        "When creating a new column for scores_wo_weight, scores_pow1, scores_pow2... I had created something like pd.Series(scores_wo_weight) and so... \n",
        "\n",
        "1) Conceptual Mistake: Now the problem that happend was with <b>dropna</b>. It had dropped perticular indexes from df... When creating a series, it recreated indexes and assigned values accordingly... So I had three lines in the last rows being NaN for scores... The fix was to assign array directly and it took care of indexes\n",
        "\n",
        "2) Silly Mistake: when l1 or l2 was zero I was appending 0 <b>twice</b> in scores_pow1 instead of once in both <b>scores_pow1</b> and <b>scores_pow2</b>"
      ]
    },
    {
      "cell_type": "code",
      "metadata": {
        "id": "FvjIDXHczXYj",
        "colab_type": "code",
        "colab": {},
        "outputId": "83e397ee-7c26-4af9-f456-3d5095a25057"
      },
      "source": [
        "plt.figure(figsize=(12,16))\n",
        "plt.suptitle(\"Question Pair OverlapScore Distribution\", size=20)\n",
        "plt.subplot(3,2,1)\n",
        "plt.title('IsDuplicate = 0 & NoWeight')\n",
        "train_df[train_df.is_duplicate == 0].scores_pow2.hist(bins=20)\n",
        "plt.subplot(3,2,2)\n",
        "plt.title('IsDuplicate = 1 & NoWeight')\n",
        "train_df[train_df.is_duplicate == 1].scores_pow2.hist(bins=20)\n",
        "plt.subplot(3,2,3)\n",
        "plt.title('IsDuplicate = 0 & P1 Exp Decay')\n",
        "train_df[train_df.is_duplicate == 0].scores_wo_weight.hist(bins=20)\n",
        "plt.subplot(3,2,4)\n",
        "plt.title('IsDuplicate = 1 & P1 Exp Decay')\n",
        "train_df[train_df.is_duplicate == 1].scores_wo_weight.hist(bins=20)\n",
        "plt.subplot(3,2,5)\n",
        "plt.title('IsDuplicate = 0 & P2 Exp Decay')\n",
        "train_df[train_df.is_duplicate == 0].scores_pow1.hist(bins=20)\n",
        "plt.subplot(3,2,6)\n",
        "plt.title('IsDuplicate = 1 & P2 Exp Decay')\n",
        "train_df[train_df.is_duplicate == 1].scores_pow1.hist(bins=20)\n",
        "plt.show()"
      ],
      "execution_count": 0,
      "outputs": [
        {
          "output_type": "display_data",
          "data": {
            "image/png": "[encoded data removed]",
            "text/plain": [
              "<Figure size 864x1152 with 6 Axes>"
            ]
          },
          "metadata": {
            "tags": []
          }
        }
      ]
    },
    {
      "cell_type": "code",
      "metadata": {
        "id": "OnK_lcJozXYr",
        "colab_type": "code",
        "colab": {}
      },
      "source": [
        "x = train_df[train_df.is_duplicate == 0]"
      ],
      "execution_count": 0,
      "outputs": []
    },
    {
      "cell_type": "code",
      "metadata": {
        "id": "2Jis1bF9zXYv",
        "colab_type": "code",
        "colab": {},
        "outputId": "0b3737a9-b5c8-42bf-9239-72df93774600"
      },
      "source": [
        "x[x.scores_pow2 > 0.8][['q1_tokens','q2_tokens']].head()"
      ],
      "execution_count": 0,
      "outputs": [
        {
          "output_type": "execute_result",
          "data": {
            "text/html": [
              "<div>\n",
              "<style scoped>\n",
              "    .dataframe tbody tr th:only-of-type {\n",
              "        vertical-align: middle;\n",
              "    }\n",
              "\n",
              "    .dataframe tbody tr th {\n",
              "        vertical-align: top;\n",
              "    }\n",
              "\n",
              "    .dataframe thead th {\n",
              "        text-align: right;\n",
              "    }\n",
              "</style>\n",
              "<table border=\"1\" class=\"dataframe\">\n",
              "  <thead>\n",
              "    <tr style=\"text-align: right;\">\n",
              "      <th></th>\n",
              "      <th>q1_tokens</th>\n",
              "      <th>q2_tokens</th>\n",
              "    </tr>\n",
              "  </thead>\n",
              "  <tbody>\n",
              "    <tr>\n",
              "      <th>89</th>\n",
              "      <td>[what, is, review, of, next, warrior, proving,...</td>\n",
              "      <td>[what, is, review, of, next, warrior, proving,...</td>\n",
              "    </tr>\n",
              "    <tr>\n",
              "      <th>1176</th>\n",
              "      <td>[what, are, most, interesting, products, and, ...</td>\n",
              "      <td>[what, are, most, interesting, products, and, ...</td>\n",
              "    </tr>\n",
              "    <tr>\n",
              "      <th>1316</th>\n",
              "      <td>[which, is, best, destination, for, honeymoon,...</td>\n",
              "      <td>[which, is, best, destination, for, honeymoon,...</td>\n",
              "    </tr>\n",
              "    <tr>\n",
              "      <th>1470</th>\n",
              "      <td>[how, much, does, ola, mini, cab, earn, on, av...</td>\n",
              "      <td>[how, much, does, ola, mini, cab, earn, on, av...</td>\n",
              "    </tr>\n",
              "    <tr>\n",
              "      <th>1608</th>\n",
              "      <td>[what, are, some, things, new, employees, shou...</td>\n",
              "      <td>[what, are, some, things, new, employees, shou...</td>\n",
              "    </tr>\n",
              "  </tbody>\n",
              "</table>\n",
              "</div>"
            ],
            "text/plain": [
              "                                              q1_tokens  \\\n",
              "89    [what, is, review, of, next, warrior, proving,...   \n",
              "1176  [what, are, most, interesting, products, and, ...   \n",
              "1316  [which, is, best, destination, for, honeymoon,...   \n",
              "1470  [how, much, does, ola, mini, cab, earn, on, av...   \n",
              "1608  [what, are, some, things, new, employees, shou...   \n",
              "\n",
              "                                              q2_tokens  \n",
              "89    [what, is, review, of, next, warrior, proving,...  \n",
              "1176  [what, are, most, interesting, products, and, ...  \n",
              "1316  [which, is, best, destination, for, honeymoon,...  \n",
              "1470  [how, much, does, ola, mini, cab, earn, on, av...  \n",
              "1608  [what, are, some, things, new, employees, shou...  "
            ]
          },
          "metadata": {
            "tags": []
          },
          "execution_count": 553
        }
      ]
    },
    {
      "cell_type": "markdown",
      "metadata": {
        "id": "fOQodQV1zXZB",
        "colab_type": "text"
      },
      "source": [
        "### 4 .Creating Vocabulary and WordEmbedding"
      ]
    },
    {
      "cell_type": "code",
      "metadata": {
        "id": "Kx2SwWmezXZD",
        "colab_type": "code",
        "colab": {}
      },
      "source": [
        "def load_embed(file):\n",
        "    def get_coefs(word,*arr): \n",
        "        return word, np.asarray(arr, dtype='float32')\n",
        "    \n",
        "    embeddings_index = dict(get_coefs(*o.split(\" \")) for o in open(file, encoding='latin'))        \n",
        "    return embeddings_index"
      ],
      "execution_count": 0,
      "outputs": []
    },
    {
      "cell_type": "code",
      "metadata": {
        "id": "DZSwXNrDzXZJ",
        "colab_type": "code",
        "colab": {}
      },
      "source": [
        "import os\n",
        "import urllib.request\n",
        "urllib.request.urlretrieve('http://nlp.stanford.edu/data/glove.840B.300d.zip', 'glove840B.zip')"
      ],
      "execution_count": 0,
      "outputs": []
    },
    {
      "cell_type": "code",
      "metadata": {
        "id": "-QDx7fhkzXZQ",
        "colab_type": "code",
        "colab": {}
      },
      "source": [
        "import zipfile\n",
        "zip_ref = zipfile.ZipFile('glove840B.zip', 'r')\n",
        "zip_ref.extractall('embeddings')\n",
        "zip_ref.close()"
      ],
      "execution_count": 0,
      "outputs": []
    },
    {
      "cell_type": "code",
      "metadata": {
        "id": "a9nghQo4zXZU",
        "colab_type": "code",
        "colab": {}
      },
      "source": [
        "glove = './embeddings/glove.840B.300d.txt'"
      ],
      "execution_count": 0,
      "outputs": []
    }
  ]
}
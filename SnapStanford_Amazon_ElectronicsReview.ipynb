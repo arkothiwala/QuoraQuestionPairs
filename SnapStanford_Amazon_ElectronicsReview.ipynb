{
  "nbformat": 4,
  "nbformat_minor": 0,
  "metadata": {
    "colab": {
      "name": "Welcome To Colaboratory",
      "version": "0.3.2",
      "provenance": [],
      "collapsed_sections": [],
      "toc_visible": true,
      "include_colab_link": true
    },
    "kernelspec": {
      "display_name": "Python 3",
      "name": "python3"
    }
  },
  "cells": [
    {
      "cell_type": "markdown",
      "metadata": {
        "id": "view-in-github",
        "colab_type": "text"
      },
      "source": [
        "<a href=\"https://colab.research.google.com/github/arkothiwala/QuoraQuestionPairs/blob/master/SnapStanford_Amazon_ElectronicsReview.ipynb\" target=\"_parent\"><img src=\"https://colab.research.google.com/assets/colab-badge.svg\" alt=\"Open In Colab\"/></a>"
      ]
    },
    {
      "cell_type": "markdown",
      "metadata": {
        "colab_type": "text",
        "id": "5fCEDCU_qrC0"
      },
      "source": [
        "<p><img alt=\"Colaboratory logo\" height=\"45px\" src=\"https://colab.research.google.com/img/colab_favicon.ico\" align=\"left\" hspace=\"10px\" vspace=\"0px\"></p>\n",
        "\n",
        "<h1>Welcome to Colaboratory!</h1>\n",
        "\n",
        "\n",
        "Colaboratory is a free Jupyter notebook environment that requires no setup and runs entirely in the cloud.\n",
        "\n",
        "With Colaboratory you can write and execute code, save and share your analyses, and access powerful computing resources, all for free from your browser."
      ]
    },
    {
      "cell_type": "code",
      "metadata": {
        "id": "-2qYb2HuBPfz",
        "colab_type": "code",
        "colab": {}
      },
      "source": [
        "# Install latest tensorflow\n",
        "!pip install tensorflow==2.0.0-beta1 \n",
        "# Install execution time extension\n",
        "!pip install jupyter_contrib_nbextensions\n",
        "!jupyter contrib nbextension install --user\n",
        "!jupyter nbextension enable hinterland/hinterland\n",
        "!jupyter nbextension enable execute_time/ExecuteTime"
      ],
      "execution_count": 0,
      "outputs": []
    },
    {
      "cell_type": "code",
      "metadata": {
        "id": "8TI5P_3ALtN6",
        "colab_type": "code",
        "colab": {}
      },
      "source": [
        "url = \"http://snap.stanford.edu/data/amazon/productGraph/categoryFiles/reviews_Electronics_5.json.gz\""
      ],
      "execution_count": 0,
      "outputs": []
    },
    {
      "cell_type": "code",
      "metadata": {
        "id": "gS1PboqpMSoH",
        "colab_type": "code",
        "colab": {}
      },
      "source": [
        "import progressbar\n",
        "pbar = None\n",
        "\n",
        "def show_progress(block_num, block_size, total_size):\n",
        "    global pbar\n",
        "    if pbar is None:\n",
        "        pbar = progressbar.ProgressBar(maxval=total_size)\n",
        "\n",
        "    downloaded = block_num * block_size\n",
        "    if downloaded < total_size:\n",
        "        pbar.update(downloaded)\n",
        "    else:\n",
        "        pbar.finish()\n",
        "        pbar = None"
      ],
      "execution_count": 0,
      "outputs": []
    },
    {
      "cell_type": "code",
      "metadata": {
        "id": "eb--OFEeLvn3",
        "colab_type": "code",
        "colab": {}
      },
      "source": [
        "import urllib.request"
      ],
      "execution_count": 0,
      "outputs": []
    },
    {
      "cell_type": "code",
      "metadata": {
        "id": "klTOG0fkMBis",
        "colab_type": "code",
        "colab": {
          "base_uri": "https://localhost:8080/",
          "height": 50
        },
        "outputId": "a95b934f-3912-4f27-eb9e-c61dcc1891e0"
      },
      "source": [
        "urllib.request.urlretrieve(url,\"data.gz\", show_progress)"
      ],
      "execution_count": 5,
      "outputs": [
        {
          "output_type": "stream",
          "text": [
            "100% (495854086 of 495854086) |##########| Elapsed Time: 0:01:17 Time:  0:01:17\n"
          ],
          "name": "stderr"
        },
        {
          "output_type": "execute_result",
          "data": {
            "text/plain": [
              "('data.gz', <http.client.HTTPMessage at 0x7f779a627dd8>)"
            ]
          },
          "metadata": {
            "tags": []
          },
          "execution_count": 5
        }
      ]
    },
    {
      "cell_type": "code",
      "metadata": {
        "id": "YycBZngQMVSD",
        "colab_type": "code",
        "colab": {}
      },
      "source": [
        "import numpy as np\n",
        "import pandas as pd\n",
        "import matplotlib.pyplot as plt\n",
        "import gzip\n",
        "import tensorflow\n",
        "import time\n",
        "from cleaning import TextPreProcessing"
      ],
      "execution_count": 0,
      "outputs": []
    },
    {
      "cell_type": "code",
      "metadata": {
        "id": "qoz-yUPHBoEn",
        "colab_type": "code",
        "colab": {}
      },
      "source": [
        "df = pd.read_json('./data.gz', lines=True, compression='gzip')"
      ],
      "execution_count": 0,
      "outputs": []
    },
    {
      "cell_type": "code",
      "metadata": {
        "id": "osmvMWl8Bx0n",
        "colab_type": "code",
        "colab": {
          "base_uri": "https://localhost:8080/",
          "height": 218
        },
        "outputId": "7a8ae1ae-4f51-4a9b-8570-3e4acc60154c"
      },
      "source": [
        "%%time\n",
        "df.isna().sum()"
      ],
      "execution_count": 11,
      "outputs": [
        {
          "output_type": "stream",
          "text": [
            "CPU times: user 1.98 s, sys: 3.23 ms, total: 1.98 s\n",
            "Wall time: 1.98 s\n"
          ],
          "name": "stdout"
        },
        {
          "output_type": "execute_result",
          "data": {
            "text/plain": [
              "asin                  0\n",
              "helpful               0\n",
              "overall               0\n",
              "reviewText            0\n",
              "reviewTime            0\n",
              "reviewerID            0\n",
              "reviewerName      24730\n",
              "summary               0\n",
              "unixReviewTime        0\n",
              "dtype: int64"
            ]
          },
          "metadata": {
            "tags": []
          },
          "execution_count": 11
        }
      ]
    },
    {
      "cell_type": "code",
      "metadata": {
        "id": "t_m7KoRUCKf1",
        "colab_type": "code",
        "colab": {
          "base_uri": "https://localhost:8080/",
          "height": 279
        },
        "outputId": "15e7ee39-110a-44b6-ce02-4617efebe550"
      },
      "source": [
        "df.head()"
      ],
      "execution_count": 6,
      "outputs": [
        {
          "output_type": "execute_result",
          "data": {
            "text/html": [
              "<div>\n",
              "<style scoped>\n",
              "    .dataframe tbody tr th:only-of-type {\n",
              "        vertical-align: middle;\n",
              "    }\n",
              "\n",
              "    .dataframe tbody tr th {\n",
              "        vertical-align: top;\n",
              "    }\n",
              "\n",
              "    .dataframe thead th {\n",
              "        text-align: right;\n",
              "    }\n",
              "</style>\n",
              "<table border=\"1\" class=\"dataframe\">\n",
              "  <thead>\n",
              "    <tr style=\"text-align: right;\">\n",
              "      <th></th>\n",
              "      <th>asin</th>\n",
              "      <th>helpful</th>\n",
              "      <th>overall</th>\n",
              "      <th>reviewText</th>\n",
              "      <th>reviewTime</th>\n",
              "      <th>reviewerID</th>\n",
              "      <th>reviewerName</th>\n",
              "      <th>summary</th>\n",
              "      <th>unixReviewTime</th>\n",
              "    </tr>\n",
              "  </thead>\n",
              "  <tbody>\n",
              "    <tr>\n",
              "      <th>0</th>\n",
              "      <td>0528881469</td>\n",
              "      <td>[0, 0]</td>\n",
              "      <td>5</td>\n",
              "      <td>We got this GPS for my husband who is an (OTR)...</td>\n",
              "      <td>06 2, 2013</td>\n",
              "      <td>AO94DHGC771SJ</td>\n",
              "      <td>amazdnu</td>\n",
              "      <td>Gotta have GPS!</td>\n",
              "      <td>1370131200</td>\n",
              "    </tr>\n",
              "    <tr>\n",
              "      <th>1</th>\n",
              "      <td>0528881469</td>\n",
              "      <td>[12, 15]</td>\n",
              "      <td>1</td>\n",
              "      <td>I'm a professional OTR truck driver, and I bou...</td>\n",
              "      <td>11 25, 2010</td>\n",
              "      <td>AMO214LNFCEI4</td>\n",
              "      <td>Amazon Customer</td>\n",
              "      <td>Very Disappointed</td>\n",
              "      <td>1290643200</td>\n",
              "    </tr>\n",
              "    <tr>\n",
              "      <th>2</th>\n",
              "      <td>0528881469</td>\n",
              "      <td>[43, 45]</td>\n",
              "      <td>3</td>\n",
              "      <td>Well, what can I say.  I've had this unit in m...</td>\n",
              "      <td>09 9, 2010</td>\n",
              "      <td>A3N7T0DY83Y4IG</td>\n",
              "      <td>C. A. Freeman</td>\n",
              "      <td>1st impression</td>\n",
              "      <td>1283990400</td>\n",
              "    </tr>\n",
              "    <tr>\n",
              "      <th>3</th>\n",
              "      <td>0528881469</td>\n",
              "      <td>[9, 10]</td>\n",
              "      <td>2</td>\n",
              "      <td>Not going to write a long review, even thought...</td>\n",
              "      <td>11 24, 2010</td>\n",
              "      <td>A1H8PY3QHMQQA0</td>\n",
              "      <td>Dave M. Shaw \"mack dave\"</td>\n",
              "      <td>Great grafics, POOR GPS</td>\n",
              "      <td>1290556800</td>\n",
              "    </tr>\n",
              "    <tr>\n",
              "      <th>4</th>\n",
              "      <td>0528881469</td>\n",
              "      <td>[0, 0]</td>\n",
              "      <td>1</td>\n",
              "      <td>I've had mine for a year and here's what we go...</td>\n",
              "      <td>09 29, 2011</td>\n",
              "      <td>A24EV6RXELQZ63</td>\n",
              "      <td>Wayne Smith</td>\n",
              "      <td>Major issues, only excuses for support</td>\n",
              "      <td>1317254400</td>\n",
              "    </tr>\n",
              "  </tbody>\n",
              "</table>\n",
              "</div>"
            ],
            "text/plain": [
              "         asin   helpful  ...                                 summary unixReviewTime\n",
              "0  0528881469    [0, 0]  ...                         Gotta have GPS!     1370131200\n",
              "1  0528881469  [12, 15]  ...                       Very Disappointed     1290643200\n",
              "2  0528881469  [43, 45]  ...                          1st impression     1283990400\n",
              "3  0528881469   [9, 10]  ...                 Great grafics, POOR GPS     1290556800\n",
              "4  0528881469    [0, 0]  ...  Major issues, only excuses for support     1317254400\n",
              "\n",
              "[5 rows x 9 columns]"
            ]
          },
          "metadata": {
            "tags": []
          },
          "execution_count": 6
        }
      ]
    },
    {
      "cell_type": "markdown",
      "metadata": {
        "id": "Pq99mVp1Dcpz",
        "colab_type": "text"
      },
      "source": [
        "There are lot of columns we do not need. Lets filter our dataset to include only text and rating"
      ]
    },
    {
      "cell_type": "code",
      "metadata": {
        "id": "BO-ksPe0Cbfs",
        "colab_type": "code",
        "colab": {
          "base_uri": "https://localhost:8080/",
          "height": 50
        },
        "outputId": "5acc1109-a76e-4647-a121-de1081c1d8aa"
      },
      "source": [
        "%%time\n",
        "filteredCols = ['reviewText', 'overall']\n",
        "df = df[filteredCols]"
      ],
      "execution_count": 24,
      "outputs": [
        {
          "output_type": "stream",
          "text": [
            "CPU times: user 1.76 s, sys: 14.8 ms, total: 1.77 s\n",
            "Wall time: 1.77 s\n"
          ],
          "name": "stdout"
        }
      ]
    },
    {
      "cell_type": "code",
      "metadata": {
        "id": "rVHtE3TEDMZp",
        "colab_type": "code",
        "colab": {}
      },
      "source": [
        "df.head()"
      ],
      "execution_count": 0,
      "outputs": []
    },
    {
      "cell_type": "code",
      "metadata": {
        "id": "Nr4608MuIrYx",
        "colab_type": "code",
        "colab": {
          "base_uri": "https://localhost:8080/",
          "height": 168
        },
        "outputId": "a114c20f-a4c1-41ea-c17d-77443d06fae5"
      },
      "source": [
        "%%time\n",
        "df.reviewText = TextPreProcessing.cleanText(df.reviewText)\n",
        "df.reviewText = df.reviewText.str.replace(r'([^0-9a-zA-Z ]+)',r' ').str.replace(r\"[ ]+\",\" \")\n",
        "df.to_csv(\"data.csv\")"
      ],
      "execution_count": 25,
      "outputs": [
        {
          "output_type": "stream",
          "text": [
            "cleanText\n",
            "addStartStopTokens\n",
            "33.65 % queries with numbers were processed\n",
            "31.34 % queries with numbers were processed\n",
            "0.15 % queries with numbers were processed\n",
            "1.54 % queries with numbers were processed\n",
            "5.13 % queries with numbers were processed\n",
            "CPU times: user 9min 16s, sys: 5.27 s, total: 9min 21s\n",
            "Wall time: 9min 22s\n"
          ],
          "name": "stdout"
        }
      ]
    },
    {
      "cell_type": "code",
      "metadata": {
        "id": "NfT0wSAa4MQv",
        "colab_type": "code",
        "colab": {}
      },
      "source": [
        "df.to_csv(\"data.csv\")"
      ],
      "execution_count": 0,
      "outputs": []
    },
    {
      "cell_type": "code",
      "metadata": {
        "id": "RRMSj2Q-o5Cj",
        "colab_type": "code",
        "colab": {
          "base_uri": "https://localhost:8080/",
          "height": 195
        },
        "outputId": "b84a4ca6-e708-49fb-d95f-ba42f56c53f7"
      },
      "source": [
        "df.head()"
      ],
      "execution_count": 37,
      "outputs": [
        {
          "output_type": "execute_result",
          "data": {
            "text/html": [
              "<div>\n",
              "<style scoped>\n",
              "    .dataframe tbody tr th:only-of-type {\n",
              "        vertical-align: middle;\n",
              "    }\n",
              "\n",
              "    .dataframe tbody tr th {\n",
              "        vertical-align: top;\n",
              "    }\n",
              "\n",
              "    .dataframe thead th {\n",
              "        text-align: right;\n",
              "    }\n",
              "</style>\n",
              "<table border=\"1\" class=\"dataframe\">\n",
              "  <thead>\n",
              "    <tr style=\"text-align: right;\">\n",
              "      <th></th>\n",
              "      <th>reviewText</th>\n",
              "      <th>overall</th>\n",
              "    </tr>\n",
              "  </thead>\n",
              "  <tbody>\n",
              "    <tr>\n",
              "      <th>0</th>\n",
              "      <td>start we got this gps for my husband who is a...</td>\n",
              "      <td>5</td>\n",
              "    </tr>\n",
              "    <tr>\n",
              "      <th>1</th>\n",
              "      <td>start i is a professional otr truck driver an...</td>\n",
              "      <td>1</td>\n",
              "    </tr>\n",
              "    <tr>\n",
              "      <th>2</th>\n",
              "      <td>start well what can i say i is had this unit ...</td>\n",
              "      <td>3</td>\n",
              "    </tr>\n",
              "    <tr>\n",
              "      <th>3</th>\n",
              "      <td>start not going to write a long review even t...</td>\n",
              "      <td>2</td>\n",
              "    </tr>\n",
              "    <tr>\n",
              "      <th>4</th>\n",
              "      <td>start i is had mine for a year and here is wh...</td>\n",
              "      <td>1</td>\n",
              "    </tr>\n",
              "  </tbody>\n",
              "</table>\n",
              "</div>"
            ],
            "text/plain": [
              "                                          reviewText  overall\n",
              "0   start we got this gps for my husband who is a...        5\n",
              "1   start i is a professional otr truck driver an...        1\n",
              "2   start well what can i say i is had this unit ...        3\n",
              "3   start not going to write a long review even t...        2\n",
              "4   start i is had mine for a year and here is wh...        1"
            ]
          },
          "metadata": {
            "tags": []
          },
          "execution_count": 37
        }
      ]
    },
    {
      "cell_type": "code",
      "metadata": {
        "id": "B4nnY_L0tPKM",
        "colab_type": "code",
        "colab": {}
      },
      "source": [
        "#df.reviewText = TextPreProcessing.removeStartStopTags(df.reviewText, '< start >')\n",
        "#df.reviewText = print(TextPreProcessing.removeStartStopTags(df.reviewText, '<stop>'))"
      ],
      "execution_count": 0,
      "outputs": []
    },
    {
      "cell_type": "code",
      "metadata": {
        "id": "H-BS8rhwqvYE",
        "colab_type": "code",
        "colab": {}
      },
      "source": [
        "#https://towardsdatascience.com/yet-another-twitter-sentiment-analysis-part-1-tackling-class-imbalance-4d7a7f717d44"
      ],
      "execution_count": 0,
      "outputs": []
    },
    {
      "cell_type": "code",
      "metadata": {
        "id": "BJRg0Ka7vNOQ",
        "colab_type": "code",
        "colab": {
          "base_uri": "https://localhost:8080/",
          "height": 235
        },
        "outputId": "1c0ac52c-2b68-4c6a-c5b3-1f2021848375"
      },
      "source": [
        "x = [\"I'm a professional OTR truck driver, and I bou\",\n",
        "\"Well, what can I say. I've had this unit in m...\t\",\n",
        "\"Not going to write a long review, even thought...\t\",\n",
        "\"I've had mine for a year and here's what we go...\t\",\n",
        "\"We got this GPS for my husband who is an (OTR)...\t\"]\n",
        "\n",
        "s = pd.Series(x)\n",
        "\n",
        "TextPreProcessing.cleanText(s)"
      ],
      "execution_count": 5,
      "outputs": [
        {
          "output_type": "stream",
          "text": [
            "cleanText\n",
            "addStartStopTokens\n",
            "0.00 % queries with numbers were processed\n",
            "0.00 % queries with numbers were processed\n",
            "0.00 % queries with numbers were processed\n",
            "0.00 % queries with numbers were processed\n",
            "0.00 % queries with numbers were processed\n"
          ],
          "name": "stdout"
        },
        {
          "output_type": "execute_result",
          "data": {
            "text/plain": [
              "0     < start > i am a professional otr truck drive...\n",
              "1     < start > well , what can i say . i have had ...\n",
              "2     < start > not going to write a long review , ...\n",
              "3     < start > i have had mine for a year and here...\n",
              "4     < start > we got this gps for my husband who ...\n",
              "dtype: object"
            ]
          },
          "metadata": {
            "tags": []
          },
          "execution_count": 5
        }
      ]
    },
    {
      "cell_type": "code",
      "metadata": {
        "id": "MLrH2guGw7RA",
        "colab_type": "code",
        "colab": {}
      },
      "source": [
        "def foo(series):\n",
        "  #for i in range(len(series)):\n",
        "  #  series.iloc[i].replace\n",
        "  #d = dict(zip([r\"([a-z]+)'m \",r\"([a-z]+)'d \"],[r\"\\1 am \",r\"\\1 had \"]))\n",
        "  d = dict(zip([r'going',r'year' ],['GOING', \"YEAR\"]))\n",
        "  print(d)\n",
        "  return series.map(d)"
      ],
      "execution_count": 0,
      "outputs": []
    },
    {
      "cell_type": "code",
      "metadata": {
        "id": "XNDbBh3s6Ywz",
        "colab_type": "code",
        "colab": {
          "base_uri": "https://localhost:8080/",
          "height": 134
        },
        "outputId": "59a7396a-54cb-4560-a10d-ef395c11cfee"
      },
      "source": [
        "foo(s)"
      ],
      "execution_count": 21,
      "outputs": [
        {
          "output_type": "stream",
          "text": [
            "{'going': 'GOING', 'year': 'YEAR'}\n"
          ],
          "name": "stdout"
        },
        {
          "output_type": "execute_result",
          "data": {
            "text/plain": [
              "0    NaN\n",
              "1    NaN\n",
              "2    NaN\n",
              "3    NaN\n",
              "4    NaN\n",
              "dtype: object"
            ]
          },
          "metadata": {
            "tags": []
          },
          "execution_count": 21
        }
      ]
    },
    {
      "cell_type": "code",
      "metadata": {
        "id": "eXUjeCDC6hso",
        "colab_type": "code",
        "colab": {
          "base_uri": "https://localhost:8080/",
          "height": 195
        },
        "outputId": "4dee8f8a-8a0c-4a8d-8c1e-a5ab4eb84a75"
      },
      "source": [
        "df.head()"
      ],
      "execution_count": 6,
      "outputs": [
        {
          "output_type": "execute_result",
          "data": {
            "text/html": [
              "<div>\n",
              "<style scoped>\n",
              "    .dataframe tbody tr th:only-of-type {\n",
              "        vertical-align: middle;\n",
              "    }\n",
              "\n",
              "    .dataframe tbody tr th {\n",
              "        vertical-align: top;\n",
              "    }\n",
              "\n",
              "    .dataframe thead th {\n",
              "        text-align: right;\n",
              "    }\n",
              "</style>\n",
              "<table border=\"1\" class=\"dataframe\">\n",
              "  <thead>\n",
              "    <tr style=\"text-align: right;\">\n",
              "      <th></th>\n",
              "      <th>reviewText</th>\n",
              "      <th>overall</th>\n",
              "    </tr>\n",
              "  </thead>\n",
              "  <tbody>\n",
              "    <tr>\n",
              "      <th>0</th>\n",
              "      <td>&lt; start &gt; we got this gps for my husband who ...</td>\n",
              "      <td>5</td>\n",
              "    </tr>\n",
              "    <tr>\n",
              "      <th>1</th>\n",
              "      <td>&lt; start &gt; i is a professional otr truck drive...</td>\n",
              "      <td>1</td>\n",
              "    </tr>\n",
              "    <tr>\n",
              "      <th>2</th>\n",
              "      <td>&lt; start &gt; well , what can i say . i is had th...</td>\n",
              "      <td>3</td>\n",
              "    </tr>\n",
              "    <tr>\n",
              "      <th>3</th>\n",
              "      <td>&lt; start &gt; not going to write a long review , ...</td>\n",
              "      <td>2</td>\n",
              "    </tr>\n",
              "    <tr>\n",
              "      <th>4</th>\n",
              "      <td>&lt; start &gt; i is had mine for a year and here i...</td>\n",
              "      <td>1</td>\n",
              "    </tr>\n",
              "  </tbody>\n",
              "</table>\n",
              "</div>"
            ],
            "text/plain": [
              "                                          reviewText  overall\n",
              "0   < start > we got this gps for my husband who ...        5\n",
              "1   < start > i is a professional otr truck drive...        1\n",
              "2   < start > well , what can i say . i is had th...        3\n",
              "3   < start > not going to write a long review , ...        2\n",
              "4   < start > i is had mine for a year and here i...        1"
            ]
          },
          "metadata": {
            "tags": []
          },
          "execution_count": 6
        }
      ]
    },
    {
      "cell_type": "code",
      "metadata": {
        "id": "jKsKLGur7Qfe",
        "colab_type": "code",
        "colab": {}
      },
      "source": [
        ""
      ],
      "execution_count": 0,
      "outputs": []
    }
  ]
}
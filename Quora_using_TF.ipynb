{
 "cells": [
  {
   "cell_type": "code",
   "execution_count": 14,
   "metadata": {},
   "outputs": [],
   "source": [
    "from keras.models import Model\n",
    "from keras.layers import Input, Dense, Reshape, merge, subtract\n",
    "from keras.layers.embeddings import Embedding\n",
    "from keras.preprocessing.sequence import skipgrams\n",
    "from keras.preprocessing import sequence\n",
    "from keras.regularizers import *\n",
    "from keras.initializers import *\n",
    "from keras.callbacks import ModelCheckpoint, EarlyStopping\n",
    "\n",
    "import urllib.request\n",
    "import collections\n",
    "import os\n",
    "import zipfile\n",
    "\n",
    "import numpy as np\n",
    "import pandas as pd\n",
    "import tensorflow as tf\n",
    "import pickle\n",
    "from textblob import TextBlob\n",
    "import http.client\n",
    "import xml.dom.minidom\n",
    "from sklearn.utils import shuffle\n",
    "import re\n",
    "import seaborn as sns\n",
    "import keras\n",
    "import matplotlib.pyplot as plt"
   ]
  },
  {
   "cell_type": "code",
   "execution_count": 4,
   "metadata": {},
   "outputs": [],
   "source": [
    "# Obtain Dataframe object\n",
    "dataFrame_obj = pd.read_csv('C:/Study/Kgl/NN_Quora/train.csv', sep=',')"
   ]
  },
  {
   "cell_type": "code",
   "execution_count": 5,
   "metadata": {},
   "outputs": [
    {
     "name": "stdout",
     "output_type": "stream",
     "text": [
      "[363362, 105780, 201841]\n"
     ]
    },
    {
     "name": "stderr",
     "output_type": "stream",
     "text": [
      "C:\\Continuum\\Anaconda3\\lib\\site-packages\\ipykernel_launcher.py:14: SettingWithCopyWarning: \n",
      "A value is trying to be set on a copy of a slice from a DataFrame\n",
      "\n",
      "See the caveats in the documentation: http://pandas.pydata.org/pandas-docs/stable/indexing.html#indexing-view-versus-copy\n",
      "  \n",
      "C:\\Continuum\\Anaconda3\\lib\\site-packages\\ipykernel_launcher.py:15: SettingWithCopyWarning: \n",
      "A value is trying to be set on a copy of a slice from a DataFrame\n",
      "\n",
      "See the caveats in the documentation: http://pandas.pydata.org/pandas-docs/stable/indexing.html#indexing-view-versus-copy\n",
      "  from ipykernel import kernelapp as app\n",
      "C:\\Continuum\\Anaconda3\\lib\\site-packages\\ipykernel_launcher.py:12: SettingWithCopyWarning: \n",
      "A value is trying to be set on a copy of a slice from a DataFrame\n",
      "\n",
      "See the caveats in the documentation: http://pandas.pydata.org/pandas-docs/stable/indexing.html#indexing-view-versus-copy\n",
      "  if sys.path[0] == '':\n"
     ]
    }
   ],
   "source": [
    "# Replacing entries having NaN entries in Question with Clean data\n",
    "\n",
    "missing_q_index = list(dataFrame_obj[dataFrame_obj['question1'].isnull()].id)\n",
    "missing_q_index += list(dataFrame_obj[dataFrame_obj['question2'].isnull()].id)\n",
    "print(missing_q_index)\n",
    "quality_data_indices = list(dataFrame_obj.id)\n",
    "for index in missing_q_index:\n",
    "    quality_data_indices.remove(index)\n",
    "for index in missing_q_index:\n",
    "    import random\n",
    "    if type(dataFrame_obj.question1[index]) == str:\n",
    "        dataFrame_obj.question2[index] = '?';\n",
    "    else:\n",
    "        dataFrame_obj.question1[index] = '?';\n",
    "    dataFrame_obj.is_duplicate[index] = 0;"
   ]
  },
  {
   "cell_type": "code",
   "execution_count": 4,
   "metadata": {},
   "outputs": [],
   "source": [
    "def split_dataFrame_object(dataFrame_object):\n",
    "    total_data = len(dataFrame_object)\n",
    "    split_indices = np.int32(np.array([0.9,0.95,1])*total_data)\n",
    "    \n",
    "    train_set = dataFrame_object.iloc[0:split_indices[0]]\n",
    "    validation_set = dataFrame_object.iloc[split_indices[0]:split_indices[1]]\n",
    "    test_set = dataFrame_object.iloc[split_indices[1]:split_indices[2]]\n",
    "    \n",
    "    return (train_set, validation_set, test_set)"
   ]
  },
  {
   "cell_type": "code",
   "execution_count": 5,
   "metadata": {},
   "outputs": [],
   "source": [
    "# Seperate Same and Different intent queries from data... Split them into training-validation-test sets\n",
    "# finally merge both intent datasets and shuffle them\n",
    "\n",
    "same_intent = dataFrame_obj.loc[dataFrame_obj['is_duplicate'] == 1]\n",
    "diff_intent = dataFrame_obj.loc[dataFrame_obj['is_duplicate'] == 0]\n",
    "\n",
    "same_intent_train_set, same_intent_validation_set , same_intent_test_set = split_dataFrame_object(same_intent)\n",
    "diff_intent_train_set , diff_intent_validation_set , diff_intent_test_set = split_dataFrame_object(diff_intent)\n",
    "\n",
    "train_set = shuffle(pd.concat([same_intent_train_set, diff_intent_train_set]))\n",
    "validation_set = shuffle(pd.concat([same_intent_validation_set, diff_intent_validation_set]))\n",
    "test_set = shuffle(pd.concat([same_intent_test_set, diff_intent_test_set]))"
   ]
  },
  {
   "cell_type": "code",
   "execution_count": 4,
   "metadata": {},
   "outputs": [],
   "source": [
    "def check_for_missing_id(dataFrame_obj):\n",
    "    qid1 = list(dataFrame_obj.qid1)\n",
    "    qid2 = list(dataFrame_obj.qid2)\n",
    "    tot_quesn = max(max(qid1),max(qid2))\n",
    "    id = {}\n",
    "    for i in range(len(qid1)):\n",
    "        if qid1[i] in id.keys():\n",
    "            pass\n",
    "        else:\n",
    "            id[qid1[i]] = i\n",
    "    \n",
    "    for i in range(len(qid2)):\n",
    "        if qid2[i] in id.keys():\n",
    "            pass\n",
    "        else:\n",
    "            id[qid2[i]] = i\n",
    "            \n",
    "    for i in range(1, tot_quesn + 1):\n",
    "        if i in id.keys():\n",
    "            pass\n",
    "        else:\n",
    "            print(i, ' is missing')\n",
    "\n",
    "# To confirm whether any data or Qid is missing\n",
    "check_for_missing_id(dataFrame_obj)"
   ]
  },
  {
   "cell_type": "code",
   "execution_count": 5,
   "metadata": {},
   "outputs": [],
   "source": [
    "import tensorflow_hub as hub\n",
    "import os\n",
    "import re\n",
    "import seaborn as sns"
   ]
  },
  {
   "cell_type": "code",
   "execution_count": 9,
   "metadata": {},
   "outputs": [],
   "source": [
    "module_url = \"https://tfhub.dev/google/universal-sentence-encoder/1\" #@param [\"https://tfhub.dev/google/universal-sentence-encoder/1\", \"https://tfhub.dev/google/universal-sentence-encoder-large/1\"]"
   ]
  },
  {
   "cell_type": "code",
   "execution_count": 538,
   "metadata": {},
   "outputs": [
    {
     "data": {
      "text/plain": [
       "'\\n# Import the Universal Sentence Encoder\\'s TF Hub module\\nembed = hub.Module(module_url)\\n\\n# Compute a representation for each message, showing various lengths supported.\\nword = \"Elephant\"\\nsentence = \"I am a sentence for which I would like to get its embedding.\"\\nparagraph = (\\n    \"Universal Sentence Encoder embeddings also support short paragraphs. \"\\n    \"There is no hard limit on how long the paragraph is. Roughly, the longer \"\\n    \"the more \\'diluted\\' the embedding will be.\")\\nmessages = [word, sentence, paragraph]\\n\\n# Reduce logging output.\\ntf.logging.set_verbosity(tf.logging.ERROR)\\n\\nwith tf.Session() as session:\\n  session.run([tf.global_variables_initializer(), tf.tables_initializer()])\\n  message_embeddings = session.run(embed(messages))\\n\\n  for i, message_embedding in enumerate(np.array(message_embeddings).tolist()):\\n    print(\"Message: {}\".format(messages[i]))\\n    print(\"Embedding size: {}\".format(len(message_embedding)))\\n    message_embedding_snippet = \", \".join(\\n        (str(x) for x in message_embedding[:3]))\\n    print(\"Embedding: [{}, ...]\\n\".format(message_embedding_snippet))\\n'"
      ]
     },
     "execution_count": 538,
     "metadata": {},
     "output_type": "execute_result"
    }
   ],
   "source": [
    "'''\n",
    "# Import the Universal Sentence Encoder's TF Hub module\n",
    "embed = hub.Module(module_url)\n",
    "\n",
    "# Compute a representation for each message, showing various lengths supported.\n",
    "word = \"Elephant\"\n",
    "sentence = \"I am a sentence for which I would like to get its embedding.\"\n",
    "paragraph = (\n",
    "    \"Universal Sentence Encoder embeddings also support short paragraphs. \"\n",
    "    \"There is no hard limit on how long the paragraph is. Roughly, the longer \"\n",
    "    \"the more 'diluted' the embedding will be.\")\n",
    "messages = [word, sentence, paragraph]\n",
    "\n",
    "# Reduce logging output.\n",
    "tf.logging.set_verbosity(tf.logging.ERROR)\n",
    "\n",
    "with tf.Session() as session:\n",
    "  session.run([tf.global_variables_initializer(), tf.tables_initializer()])\n",
    "  message_embeddings = session.run(embed(messages))\n",
    "\n",
    "  for i, message_embedding in enumerate(np.array(message_embeddings).tolist()):\n",
    "    print(\"Message: {}\".format(messages[i]))\n",
    "    print(\"Embedding size: {}\".format(len(message_embedding)))\n",
    "    message_embedding_snippet = \", \".join(\n",
    "        (str(x) for x in message_embedding[:3]))\n",
    "    print(\"Embedding: [{}, ...]\\n\".format(message_embedding_snippet))\n",
    "'''"
   ]
  },
  {
   "cell_type": "code",
   "execution_count": 10,
   "metadata": {},
   "outputs": [
    {
     "name": "stdout",
     "output_type": "stream",
     "text": [
      "INFO:tensorflow:Using C:\\Users\\INASKOT\\AppData\\Local\\Temp\\tfhub_modules to cache modules.\n",
      "INFO:tensorflow:Initialize variable module/Embeddings_en/sharded_0:0 from checkpoint b'C:\\\\Users\\\\INASKOT\\\\AppData\\\\Local\\\\Temp\\\\tfhub_modules\\\\c6f5954ffa065cdb2f2e604e740e8838bf21a2d3\\\\variables\\\\variables' with Embeddings_en/sharded_0\n",
      "INFO:tensorflow:Initialize variable module/Embeddings_en/sharded_1:0 from checkpoint b'C:\\\\Users\\\\INASKOT\\\\AppData\\\\Local\\\\Temp\\\\tfhub_modules\\\\c6f5954ffa065cdb2f2e604e740e8838bf21a2d3\\\\variables\\\\variables' with Embeddings_en/sharded_1\n",
      "INFO:tensorflow:Initialize variable module/Embeddings_en/sharded_10:0 from checkpoint b'C:\\\\Users\\\\INASKOT\\\\AppData\\\\Local\\\\Temp\\\\tfhub_modules\\\\c6f5954ffa065cdb2f2e604e740e8838bf21a2d3\\\\variables\\\\variables' with Embeddings_en/sharded_10\n",
      "INFO:tensorflow:Initialize variable module/Embeddings_en/sharded_11:0 from checkpoint b'C:\\\\Users\\\\INASKOT\\\\AppData\\\\Local\\\\Temp\\\\tfhub_modules\\\\c6f5954ffa065cdb2f2e604e740e8838bf21a2d3\\\\variables\\\\variables' with Embeddings_en/sharded_11\n",
      "INFO:tensorflow:Initialize variable module/Embeddings_en/sharded_12:0 from checkpoint b'C:\\\\Users\\\\INASKOT\\\\AppData\\\\Local\\\\Temp\\\\tfhub_modules\\\\c6f5954ffa065cdb2f2e604e740e8838bf21a2d3\\\\variables\\\\variables' with Embeddings_en/sharded_12\n",
      "INFO:tensorflow:Initialize variable module/Embeddings_en/sharded_13:0 from checkpoint b'C:\\\\Users\\\\INASKOT\\\\AppData\\\\Local\\\\Temp\\\\tfhub_modules\\\\c6f5954ffa065cdb2f2e604e740e8838bf21a2d3\\\\variables\\\\variables' with Embeddings_en/sharded_13\n",
      "INFO:tensorflow:Initialize variable module/Embeddings_en/sharded_14:0 from checkpoint b'C:\\\\Users\\\\INASKOT\\\\AppData\\\\Local\\\\Temp\\\\tfhub_modules\\\\c6f5954ffa065cdb2f2e604e740e8838bf21a2d3\\\\variables\\\\variables' with Embeddings_en/sharded_14\n",
      "INFO:tensorflow:Initialize variable module/Embeddings_en/sharded_15:0 from checkpoint b'C:\\\\Users\\\\INASKOT\\\\AppData\\\\Local\\\\Temp\\\\tfhub_modules\\\\c6f5954ffa065cdb2f2e604e740e8838bf21a2d3\\\\variables\\\\variables' with Embeddings_en/sharded_15\n",
      "INFO:tensorflow:Initialize variable module/Embeddings_en/sharded_16:0 from checkpoint b'C:\\\\Users\\\\INASKOT\\\\AppData\\\\Local\\\\Temp\\\\tfhub_modules\\\\c6f5954ffa065cdb2f2e604e740e8838bf21a2d3\\\\variables\\\\variables' with Embeddings_en/sharded_16\n",
      "INFO:tensorflow:Initialize variable module/Embeddings_en/sharded_2:0 from checkpoint b'C:\\\\Users\\\\INASKOT\\\\AppData\\\\Local\\\\Temp\\\\tfhub_modules\\\\c6f5954ffa065cdb2f2e604e740e8838bf21a2d3\\\\variables\\\\variables' with Embeddings_en/sharded_2\n",
      "INFO:tensorflow:Initialize variable module/Embeddings_en/sharded_3:0 from checkpoint b'C:\\\\Users\\\\INASKOT\\\\AppData\\\\Local\\\\Temp\\\\tfhub_modules\\\\c6f5954ffa065cdb2f2e604e740e8838bf21a2d3\\\\variables\\\\variables' with Embeddings_en/sharded_3\n",
      "INFO:tensorflow:Initialize variable module/Embeddings_en/sharded_4:0 from checkpoint b'C:\\\\Users\\\\INASKOT\\\\AppData\\\\Local\\\\Temp\\\\tfhub_modules\\\\c6f5954ffa065cdb2f2e604e740e8838bf21a2d3\\\\variables\\\\variables' with Embeddings_en/sharded_4\n",
      "INFO:tensorflow:Initialize variable module/Embeddings_en/sharded_5:0 from checkpoint b'C:\\\\Users\\\\INASKOT\\\\AppData\\\\Local\\\\Temp\\\\tfhub_modules\\\\c6f5954ffa065cdb2f2e604e740e8838bf21a2d3\\\\variables\\\\variables' with Embeddings_en/sharded_5\n",
      "INFO:tensorflow:Initialize variable module/Embeddings_en/sharded_6:0 from checkpoint b'C:\\\\Users\\\\INASKOT\\\\AppData\\\\Local\\\\Temp\\\\tfhub_modules\\\\c6f5954ffa065cdb2f2e604e740e8838bf21a2d3\\\\variables\\\\variables' with Embeddings_en/sharded_6\n",
      "INFO:tensorflow:Initialize variable module/Embeddings_en/sharded_7:0 from checkpoint b'C:\\\\Users\\\\INASKOT\\\\AppData\\\\Local\\\\Temp\\\\tfhub_modules\\\\c6f5954ffa065cdb2f2e604e740e8838bf21a2d3\\\\variables\\\\variables' with Embeddings_en/sharded_7\n",
      "INFO:tensorflow:Initialize variable module/Embeddings_en/sharded_8:0 from checkpoint b'C:\\\\Users\\\\INASKOT\\\\AppData\\\\Local\\\\Temp\\\\tfhub_modules\\\\c6f5954ffa065cdb2f2e604e740e8838bf21a2d3\\\\variables\\\\variables' with Embeddings_en/sharded_8\n",
      "INFO:tensorflow:Initialize variable module/Embeddings_en/sharded_9:0 from checkpoint b'C:\\\\Users\\\\INASKOT\\\\AppData\\\\Local\\\\Temp\\\\tfhub_modules\\\\c6f5954ffa065cdb2f2e604e740e8838bf21a2d3\\\\variables\\\\variables' with Embeddings_en/sharded_9\n",
      "INFO:tensorflow:Initialize variable module/Encoder_en/DNN/ResidualHidden_0/weights:0 from checkpoint b'C:\\\\Users\\\\INASKOT\\\\AppData\\\\Local\\\\Temp\\\\tfhub_modules\\\\c6f5954ffa065cdb2f2e604e740e8838bf21a2d3\\\\variables\\\\variables' with Encoder_en/DNN/ResidualHidden_0/weights\n",
      "INFO:tensorflow:Initialize variable module/Encoder_en/DNN/ResidualHidden_1/weights:0 from checkpoint b'C:\\\\Users\\\\INASKOT\\\\AppData\\\\Local\\\\Temp\\\\tfhub_modules\\\\c6f5954ffa065cdb2f2e604e740e8838bf21a2d3\\\\variables\\\\variables' with Encoder_en/DNN/ResidualHidden_1/weights\n",
      "INFO:tensorflow:Initialize variable module/Encoder_en/DNN/ResidualHidden_2/weights:0 from checkpoint b'C:\\\\Users\\\\INASKOT\\\\AppData\\\\Local\\\\Temp\\\\tfhub_modules\\\\c6f5954ffa065cdb2f2e604e740e8838bf21a2d3\\\\variables\\\\variables' with Encoder_en/DNN/ResidualHidden_2/weights\n",
      "INFO:tensorflow:Initialize variable module/Encoder_en/DNN/ResidualHidden_3/projection:0 from checkpoint b'C:\\\\Users\\\\INASKOT\\\\AppData\\\\Local\\\\Temp\\\\tfhub_modules\\\\c6f5954ffa065cdb2f2e604e740e8838bf21a2d3\\\\variables\\\\variables' with Encoder_en/DNN/ResidualHidden_3/projection\n",
      "INFO:tensorflow:Initialize variable module/Encoder_en/DNN/ResidualHidden_3/weights:0 from checkpoint b'C:\\\\Users\\\\INASKOT\\\\AppData\\\\Local\\\\Temp\\\\tfhub_modules\\\\c6f5954ffa065cdb2f2e604e740e8838bf21a2d3\\\\variables\\\\variables' with Encoder_en/DNN/ResidualHidden_3/weights\n",
      "INFO:tensorflow:Initialize variable module/SHARED_RANK_ANSWER/response_encoder_0/tanh_layer_0/bias:0 from checkpoint b'C:\\\\Users\\\\INASKOT\\\\AppData\\\\Local\\\\Temp\\\\tfhub_modules\\\\c6f5954ffa065cdb2f2e604e740e8838bf21a2d3\\\\variables\\\\variables' with SHARED_RANK_ANSWER/response_encoder_0/tanh_layer_0/bias\n",
      "INFO:tensorflow:Initialize variable module/SHARED_RANK_ANSWER/response_encoder_0/tanh_layer_0/weights:0 from checkpoint b'C:\\\\Users\\\\INASKOT\\\\AppData\\\\Local\\\\Temp\\\\tfhub_modules\\\\c6f5954ffa065cdb2f2e604e740e8838bf21a2d3\\\\variables\\\\variables' with SHARED_RANK_ANSWER/response_encoder_0/tanh_layer_0/weights\n",
      "INFO:tensorflow:Initialize variable module/SHARED_RANK_ANSWER/response_encoder_0/tanh_layer_1/bias:0 from checkpoint b'C:\\\\Users\\\\INASKOT\\\\AppData\\\\Local\\\\Temp\\\\tfhub_modules\\\\c6f5954ffa065cdb2f2e604e740e8838bf21a2d3\\\\variables\\\\variables' with SHARED_RANK_ANSWER/response_encoder_0/tanh_layer_1/bias\n",
      "INFO:tensorflow:Initialize variable module/SHARED_RANK_ANSWER/response_encoder_0/tanh_layer_1/weights:0 from checkpoint b'C:\\\\Users\\\\INASKOT\\\\AppData\\\\Local\\\\Temp\\\\tfhub_modules\\\\c6f5954ffa065cdb2f2e604e740e8838bf21a2d3\\\\variables\\\\variables' with SHARED_RANK_ANSWER/response_encoder_0/tanh_layer_1/weights\n",
      "INFO:tensorflow:Initialize variable module/SHARED_RANK_ANSWER/response_encoder_0/tanh_layer_2/bias:0 from checkpoint b'C:\\\\Users\\\\INASKOT\\\\AppData\\\\Local\\\\Temp\\\\tfhub_modules\\\\c6f5954ffa065cdb2f2e604e740e8838bf21a2d3\\\\variables\\\\variables' with SHARED_RANK_ANSWER/response_encoder_0/tanh_layer_2/bias\n",
      "INFO:tensorflow:Initialize variable module/SHARED_RANK_ANSWER/response_encoder_0/tanh_layer_2/weights:0 from checkpoint b'C:\\\\Users\\\\INASKOT\\\\AppData\\\\Local\\\\Temp\\\\tfhub_modules\\\\c6f5954ffa065cdb2f2e604e740e8838bf21a2d3\\\\variables\\\\variables' with SHARED_RANK_ANSWER/response_encoder_0/tanh_layer_2/weights\n",
      "INFO:tensorflow:Initialize variable module/SNLI/Classifier/LinearLayer/bias:0 from checkpoint b'C:\\\\Users\\\\INASKOT\\\\AppData\\\\Local\\\\Temp\\\\tfhub_modules\\\\c6f5954ffa065cdb2f2e604e740e8838bf21a2d3\\\\variables\\\\variables' with SNLI/Classifier/LinearLayer/bias\n",
      "INFO:tensorflow:Initialize variable module/SNLI/Classifier/LinearLayer/weights:0 from checkpoint b'C:\\\\Users\\\\INASKOT\\\\AppData\\\\Local\\\\Temp\\\\tfhub_modules\\\\c6f5954ffa065cdb2f2e604e740e8838bf21a2d3\\\\variables\\\\variables' with SNLI/Classifier/LinearLayer/weights\n",
      "INFO:tensorflow:Initialize variable module/SNLI/Classifier/tanh_layer_0/bias:0 from checkpoint b'C:\\\\Users\\\\INASKOT\\\\AppData\\\\Local\\\\Temp\\\\tfhub_modules\\\\c6f5954ffa065cdb2f2e604e740e8838bf21a2d3\\\\variables\\\\variables' with SNLI/Classifier/tanh_layer_0/bias\n",
      "INFO:tensorflow:Initialize variable module/SNLI/Classifier/tanh_layer_0/weights:0 from checkpoint b'C:\\\\Users\\\\INASKOT\\\\AppData\\\\Local\\\\Temp\\\\tfhub_modules\\\\c6f5954ffa065cdb2f2e604e740e8838bf21a2d3\\\\variables\\\\variables' with SNLI/Classifier/tanh_layer_0/weights\n"
     ]
    },
    {
     "name": "stdout",
     "output_type": "stream",
     "text": [
      "INFO:tensorflow:Initialize variable module/global_step:0 from checkpoint b'C:\\\\Users\\\\INASKOT\\\\AppData\\\\Local\\\\Temp\\\\tfhub_modules\\\\c6f5954ffa065cdb2f2e604e740e8838bf21a2d3\\\\variables\\\\variables' with global_step\n"
     ]
    },
    {
     "data": {
      "text/plain": [
       "'\\nfor i, message_embedding in enumerate(np.array(message_embeddings).tolist()):\\n    print(\"Message: {}\".format(messages[i]))\\n    print(\"Embedding size: {}\".format(len(message_embedding)))\\n    message_embedding_snippet = \", \".join(\\n        (str(x) for x in message_embedding[:3]))\\n    print(\"Embedding: [{}, ...]\\n\".format(message_embedding_snippet))\\n'"
      ]
     },
     "execution_count": 10,
     "metadata": {},
     "output_type": "execute_result"
    }
   ],
   "source": [
    "# Import the Universal Sentence Encoder's TF Hub module\n",
    "embed = hub.Module(module_url)"
   ]
  },
  {
   "cell_type": "code",
   "execution_count": 18,
   "metadata": {},
   "outputs": [],
   "source": [
    "del embeddings, question1_list\n",
    "\n",
    "question2_list = list(dataFrame_obj.question2)\n",
    "embeddings = embed(question2_list)\n",
    "with tf.Session() as session:\n",
    "    session.run([tf.global_variables_initializer(), tf.tables_initializer()])\n",
    "    embeddings = session.run(embeddings)\n",
    "qid2 = list(dataFrame_obj.qid2)\n",
    "for i in range(len(question2_list)):\n",
    "    d[qid2[i]] = embeddings[i]\n",
    "with open('qid_to_embedding_dict.pkl', 'wb') as f:\n",
    "    pickle.dump(d, f, pickle.HIGHEST_PROTOCOL)"
   ]
  },
  {
   "cell_type": "code",
   "execution_count": 2,
   "metadata": {},
   "outputs": [],
   "source": [
    "with open('qid_to_embedding_dict.pkl', 'rb') as f:\n",
    "    d = pickle.load(f)"
   ]
  },
  {
   "cell_type": "code",
   "execution_count": 6,
   "metadata": {},
   "outputs": [],
   "source": [
    "q1_embedding = []\n",
    "for i in range(len(dataFrame_obj.qid1)):\n",
    "    q1_embedding.append(d[dataFrame_obj.qid1[i]])\n",
    "q2_embedding = []\n",
    "for i in range(len(dataFrame_obj.qid2)):\n",
    "    q2_embedding.append(d[dataFrame_obj.qid2[i]])\n",
    "q1_embedding = np.array(q1_embedding)\n",
    "q2_embedding = np.array(q2_embedding)"
   ]
  },
  {
   "cell_type": "code",
   "execution_count": 7,
   "metadata": {},
   "outputs": [
    {
     "name": "stdout",
     "output_type": "stream",
     "text": [
      "363861 363861\n"
     ]
    }
   ],
   "source": [
    "print(len(q1_embedding), len(q2_embedding))"
   ]
  },
  {
   "cell_type": "code",
   "execution_count": 7,
   "metadata": {},
   "outputs": [
    {
     "ename": "NameError",
     "evalue": "name 'test_set' is not defined",
     "output_type": "error",
     "traceback": [
      "\u001b[1;31m---------------------------------------------------------------------------\u001b[0m",
      "\u001b[1;31mNameError\u001b[0m                                 Traceback (most recent call last)",
      "\u001b[1;32m<ipython-input-7-4ac30cd2c50b>\u001b[0m in \u001b[0;36m<module>\u001b[1;34m()\u001b[0m\n\u001b[0;32m     15\u001b[0m '''    \n\u001b[0;32m     16\u001b[0m \u001b[0mtest_data_q1_embedding\u001b[0m \u001b[1;33m=\u001b[0m \u001b[1;33m[\u001b[0m\u001b[1;33m]\u001b[0m\u001b[1;33m\u001b[0m\u001b[0m\n\u001b[1;32m---> 17\u001b[1;33m \u001b[1;32mfor\u001b[0m \u001b[0mi\u001b[0m \u001b[1;32min\u001b[0m \u001b[0mrange\u001b[0m\u001b[1;33m(\u001b[0m\u001b[0mlen\u001b[0m\u001b[1;33m(\u001b[0m\u001b[0mtest_set\u001b[0m\u001b[1;33m.\u001b[0m\u001b[0mqid1\u001b[0m\u001b[1;33m)\u001b[0m\u001b[1;33m)\u001b[0m\u001b[1;33m:\u001b[0m\u001b[1;33m\u001b[0m\u001b[0m\n\u001b[0m\u001b[0;32m     18\u001b[0m     \u001b[0mtest_data_q1_embedding\u001b[0m\u001b[1;33m.\u001b[0m\u001b[0mappend\u001b[0m\u001b[1;33m(\u001b[0m\u001b[0md\u001b[0m\u001b[1;33m[\u001b[0m\u001b[0mlist\u001b[0m\u001b[1;33m(\u001b[0m\u001b[0mtest_set\u001b[0m\u001b[1;33m.\u001b[0m\u001b[0mqid1\u001b[0m\u001b[1;33m)\u001b[0m\u001b[1;33m[\u001b[0m\u001b[0mi\u001b[0m\u001b[1;33m]\u001b[0m\u001b[1;33m]\u001b[0m\u001b[1;33m)\u001b[0m\u001b[1;33m\u001b[0m\u001b[0m\n\u001b[0;32m     19\u001b[0m \u001b[0mtest_data_q2_embedding\u001b[0m \u001b[1;33m=\u001b[0m \u001b[1;33m[\u001b[0m\u001b[1;33m]\u001b[0m\u001b[1;33m\u001b[0m\u001b[0m\n",
      "\u001b[1;31mNameError\u001b[0m: name 'test_set' is not defined"
     ]
    }
   ],
   "source": [
    "'''\n",
    "train_data_q1_embedding = np.array([])\n",
    "for i in range(len(train_set.qid1)):\n",
    "    np.append(train_data_q1_embedding, d[train_set.qid1[i]])\n",
    "train_data_q2_embedding = np.array([])\n",
    "for i in range(len(train_set.qid2)):\n",
    "    np.append(train_data_q2_embedding, d[train_set.qid2[i]])\n",
    "    \n",
    "val_data_q1_embedding = np.array([])\n",
    "for i in range(len(validation_set.qid1)):\n",
    "    np.append(val_data_q1_embedding, d[validation_set.qid1[i]])\n",
    "val_data_q2_embedding = np.array([])\n",
    "for i in range(len(validation_set.qid2)):\n",
    "    np.append(val_data_q2_embedding, d[validation_set.qid2[i]])\n",
    "'''    \n",
    "test_data_q1_embedding = []\n",
    "for i in range(len(test_set.qid1)):\n",
    "    test_data_q1_embedding.append(d[list(test_set.qid1)[i]])\n",
    "test_data_q2_embedding = []\n",
    "for i in range(len(test_set.qid2)):\n",
    "    test_data_q2_embedding.append(d[list(test_set.qid2)[i]])\n",
    "test_data_q1_embedding = np.array(test_data_q1_embedding)\n",
    "test_data_q2_embedding = np.array(test_data_q2_embedding)"
   ]
  },
  {
   "cell_type": "code",
   "execution_count": 9,
   "metadata": {},
   "outputs": [],
   "source": [
    "import matplotlib.pyplot as plt\n",
    "def plot_accuracy(history):\n",
    "    # summarize history for accuracy\n",
    "    plt.plot(history.history['acc'])\n",
    "    plt.plot(history.history['val_acc'])\n",
    "    plt.title('model accuracy')\n",
    "    plt.ylabel('accuracy')\n",
    "    plt.xlabel('epoch')\n",
    "    plt.legend(['train', 'test'], loc='upper left')\n",
    "    plt.show()\n",
    "def plot_loss(history):\n",
    "    # summarize history for loss\n",
    "    plt.plot(history.history['loss'])\n",
    "    plt.plot(history.history['val_loss'])\n",
    "    plt.title('model loss')\n",
    "    plt.ylabel('loss')\n",
    "    plt.xlabel('epoch')\n",
    "    plt.legend(['train', 'test'], loc='upper left')\n",
    "    plt.show()"
   ]
  },
  {
   "cell_type": "code",
   "execution_count": 8,
   "metadata": {},
   "outputs": [],
   "source": [
    "from IPython.display import clear_output\n",
    "import matplotlib.pyplot as plt\n",
    "class PlotLearning(keras.callbacks.Callback):\n",
    "    def on_train_begin(self, logs={}):\n",
    "        self.i = 0\n",
    "        self.x = []\n",
    "        self.losses = []\n",
    "        self.val_losses = []\n",
    "        self.acc = []\n",
    "        self.val_acc = []\n",
    "        self.fig = plt.figure()\n",
    "        \n",
    "        self.logs = []\n",
    "\n",
    "    def on_epoch_end(self, epoch, logs={}):\n",
    "        \n",
    "        self.logs.append(logs)\n",
    "        self.x.append(self.i)\n",
    "        self.losses.append(logs.get('loss'))\n",
    "        self.val_losses.append(logs.get('val_loss'))\n",
    "        self.acc.append(logs.get('acc'))\n",
    "        self.val_acc.append(logs.get('val_acc'))\n",
    "        self.i += 1\n",
    "        f, (ax1, ax2) = plt.subplots(1, 2, sharex=True, figsize=(15,6))\n",
    "        \n",
    "        clear_output(wait=True)\n",
    "        \n",
    "        ax1.set_yscale('log')\n",
    "        ax1.plot(self.x, self.losses, label=\"loss\")\n",
    "        ax1.plot(self.x, self.val_losses, label=\"val_loss\")\n",
    "        ax1.legend()\n",
    "        \n",
    "        ax2.plot(self.x, self.acc, label=\"accuracy\")\n",
    "        ax2.plot(self.x, self.val_acc, label=\"validation accuracy\")\n",
    "        ax2.legend()\n",
    "        \n",
    "        plt.show();\n",
    "        \n",
    "plot = PlotLearning()"
   ]
  },
  {
   "cell_type": "code",
   "execution_count": 9,
   "metadata": {},
   "outputs": [],
   "source": [
    "def cosine_distance(vests):\n",
    "    x, y = vests\n",
    "    x = K.l2_normalize(x, axis=-1)\n",
    "    y = K.l2_normalize(y, axis=-1)\n",
    "    return K.sum(x * y, axis=-1, keepdims=True)\n",
    "\n",
    "def cos_dist_output_shape(shapes):\n",
    "    shape1, shape2 = shapes\n",
    "    return (shape1[0],1)\n",
    "\n",
    "def exponent_neg_manhattan_distance(left, right):\n",
    "    return K.exp(-K.sum(K.abs(left-right), axis=1, keepdims=True))"
   ]
  },
  {
   "cell_type": "code",
   "execution_count": 16,
   "metadata": {},
   "outputs": [],
   "source": [
    "# Network Creation\n",
    "def SentencePairComparator(input_shape, qid_to_embedding_map):\n",
    "    \n",
    "    qid1_embedding = Input(shape=input_shape,dtype=np.float32,name=\"Input_Layer_Qid1\")\n",
    "    qid2_embedding = Input(shape=input_shape,dtype=np.float32,name=\"Input_Layer_Qid2\")\n",
    "    \n",
    "    #comparision_layer = merge(mode=lambda x: exponent_neg_manhattan_distance(x[0], x[1]), output_shape=lambda x: (x[0][0], 1), inputs=[qid1_embedding, qid2_embedding])\n",
    "    comparision_layer = subtract([qid1_embedding,qid2_embedding],name=\"Comparision_Layer\")\n",
    "    comparision_layer = Dense(units=32, activation='relu', kernel_regularizer=l2(0.000), bias_initializer=constant(0.1))(comparision_layer)\n",
    "    comparision_layer = keras.layers.Dropout(0)(comparision_layer)\n",
    "    #comparision_layer = Dense(units=32,activation='relu',kernel_regularizer=l2(0.0005), bias_initializer=constant(0.1))(comparision_layer)\n",
    "    #comparision_layer = keras.layers.Dropout(0.5)(comparision_layer)\n",
    "    #comparision_layer = Dense(units=16,activation='relu',kernel_regularizer=l2(0.0005), bias_initializer=constant(0.1))(comparision_layer)\n",
    "    #comparision_layer = keras.layers.Dropout(0)(comparision_layer)\n",
    "    \n",
    "    #hidden1_dense = Dense(units=128, name=\"First_Hidden_Layer\",activation='relu', kernel_regularizer=l2(0.005), bias_initializer=constant(0))\n",
    "    #DL1           = keras.layers.Dropout(0.3)\n",
    "    #hidden_1_qid1 = DL1(hidden1_dense(qid1_embedding))\n",
    "    #hidden_1_qid2 = DL1(hidden1_dense(qid2_embedding))\n",
    "    \n",
    "    #hidden2_dense = Dense(units=32, name = \"Second_Hidden_Layer\", activation='relu',kernel_regularizer=l2(0.002), bias_initializer=constant(0.01))\n",
    "    #DL2           = keras.layers.Dropout(0.5)\n",
    "    #hidden_2_qid1 = DL2(hidden2_dense(hidden_1_qid1))\n",
    "    #hidden_2_qid2 = DL2(hidden2_dense(hidden_1_qid2))\n",
    "    \n",
    "    #comparision_layer = subtract([hidden_2_qid1,hidden_2_qid2],name=\"Comparision_Layer\")\n",
    "    output = Dense(1,activation='sigmoid', kernel_regularizer=l2(0.00), name=\"Output_Layer\")(comparision_layer)\n",
    "    #output = keras.layers.merge([hidden_2_qid1, hidden_2_qid2], mode='cos',dot_axes=-1, output_shape=(None,1))\n",
    "    #output = keras.layers.Lambda(cosine_distance,output_shape=cos_dist_output_shape)([hidden_2_qid1, hidden_2_qid2])\n",
    "    #output = keras.layers.Activation('sigmoid')(output)\n",
    "    \n",
    "    #output = merge(mode=lambda x: exponent_neg_manhattan_distance(x[0], x[1]), output_shape=lambda x: (x[0][0], 1), inputs=[hidden_1_qid1, hidden_1_qid2])\n",
    "    \n",
    "    model = Model(inputs=[qid1_embedding, qid2_embedding], outputs=output)\n",
    "    return model"
   ]
  },
  {
   "cell_type": "code",
   "execution_count": 17,
   "metadata": {},
   "outputs": [
    {
     "name": "stdout",
     "output_type": "stream",
     "text": [
      "__________________________________________________________________________________________________\n",
      "Layer (type)                    Output Shape         Param #     Connected to                     \n",
      "==================================================================================================\n",
      "Input_Layer_Qid1 (InputLayer)   (None, 512)          0                                            \n",
      "__________________________________________________________________________________________________\n",
      "Input_Layer_Qid2 (InputLayer)   (None, 512)          0                                            \n",
      "__________________________________________________________________________________________________\n",
      "Comparision_Layer (Subtract)    (None, 512)          0           Input_Layer_Qid1[0][0]           \n",
      "                                                                 Input_Layer_Qid2[0][0]           \n",
      "__________________________________________________________________________________________________\n",
      "dense_3 (Dense)                 (None, 32)           16416       Comparision_Layer[0][0]          \n",
      "__________________________________________________________________________________________________\n",
      "dropout_3 (Dropout)             (None, 32)           0           dense_3[0][0]                    \n",
      "__________________________________________________________________________________________________\n",
      "Output_Layer (Dense)            (None, 1)            33          dropout_3[0][0]                  \n",
      "==================================================================================================\n",
      "Total params: 16,449\n",
      "Trainable params: 16,449\n",
      "Non-trainable params: 0\n",
      "__________________________________________________________________________________________________\n"
     ]
    }
   ],
   "source": [
    "model = SentencePairComparator(list(d.values())[0].shape,qid_to_embedding_map=d)\n",
    "model.summary()"
   ]
  },
  {
   "cell_type": "code",
   "execution_count": 18,
   "metadata": {},
   "outputs": [],
   "source": [
    "#sgd = keras.optimizers.SGD(lr=0.001, decay=1e-6, momentum=0.9, nesterov=True)\n",
    "#adam = keras.optimizers.Adam(lr=0.1, beta_1=0.9, beta_2=0.999, epsilon=1e-5, decay=0.8, amsgrad=False)\n",
    "model.compile(optimizer='rmsprop', loss='binary_crossentropy', metrics=['accuracy'])"
   ]
  },
  {
   "cell_type": "code",
   "execution_count": 19,
   "metadata": {},
   "outputs": [
    {
     "data": {
      "image/png": "[encoded data removed]",
      "text/plain": [
       "<Figure size 1080x432 with 2 Axes>"
      ]
     },
     "metadata": {},
     "output_type": "display_data"
    }
   ],
   "source": [
    "start_id = np.random.randint(1,150000)\n",
    "stop_id  = start_id + 262272\n",
    "#history = model.fit(x=[q1_embedding,q2_embedding],y=list(dataFrame_obj.is_duplicate),batch_size=256,epochs=500,shuffle=True,validation_split=0.2,verbose=2, callbacks=[plot])\n",
    "checkpoint = ModelCheckpoint(filepath='GoogleUSENetWeights.{epoch:02d}-{val_acc:.4f}.hdf5', monitor='val_acc', verbose=0, save_best_only=True, save_weights_only=False, mode='auto', period=1)\n",
    "history = model.fit(x=[q1_embedding[start_id:stop_id],q2_embedding[start_id:stop_id]],y=list(dataFrame_obj.is_duplicate[start_id:stop_id]),batch_size=2048,epochs=500,shuffle=True,validation_split=0.2,verbose=2, callbacks=[plot,checkpoint])"
   ]
  },
  {
   "cell_type": "code",
   "execution_count": 20,
   "metadata": {},
   "outputs": [
    {
     "ename": "NameError",
     "evalue": "name 'test_data_q2_embedding' is not defined",
     "output_type": "error",
     "traceback": [
      "\u001b[1;31m---------------------------------------------------------------------------\u001b[0m",
      "\u001b[1;31mNameError\u001b[0m                                 Traceback (most recent call last)",
      "\u001b[1;32m<ipython-input-20-3ce561c28e3f>\u001b[0m in \u001b[0;36m<module>\u001b[1;34m()\u001b[0m\n\u001b[1;32m----> 1\u001b[1;33m \u001b[0mmodel\u001b[0m\u001b[1;33m.\u001b[0m\u001b[0mevaluate\u001b[0m\u001b[1;33m(\u001b[0m\u001b[0mx\u001b[0m\u001b[1;33m=\u001b[0m\u001b[1;33m[\u001b[0m\u001b[0mtest_data_q1_embedding\u001b[0m\u001b[1;33m,\u001b[0m \u001b[0mtest_data_q2_embedding\u001b[0m\u001b[1;33m]\u001b[0m\u001b[1;33m,\u001b[0m\u001b[0my\u001b[0m\u001b[1;33m=\u001b[0m\u001b[0mlist\u001b[0m\u001b[1;33m(\u001b[0m\u001b[0mtest_set\u001b[0m\u001b[1;33m.\u001b[0m\u001b[0mis_duplicate\u001b[0m\u001b[1;33m)\u001b[0m\u001b[1;33m,\u001b[0m\u001b[0mverbose\u001b[0m\u001b[1;33m=\u001b[0m\u001b[1;36m2\u001b[0m\u001b[1;33m)\u001b[0m\u001b[1;33m\u001b[0m\u001b[0m\n\u001b[0m",
      "\u001b[1;31mNameError\u001b[0m: name 'test_data_q2_embedding' is not defined"
     ]
    }
   ],
   "source": [
    "model.evaluate(x=[test_data_q1_embedding, test_data_q2_embedding],y=list(test_set.is_duplicate),verbose=2)"
   ]
  },
  {
   "cell_type": "code",
   "execution_count": 122,
   "metadata": {},
   "outputs": [
    {
     "data": {
      "text/plain": [
       "array([ 0.02902938, -0.0112369 , -0.00246853, -0.06515623, -0.03764345,\n",
       "        0.02697499,  0.00324297,  0.0461738 ,  0.02616704, -0.00604337],\n",
       "      dtype=float32)"
      ]
     },
     "execution_count": 122,
     "metadata": {},
     "output_type": "execute_result"
    }
   ],
   "source": [
    "q1_embedding[5][:10]"
   ]
  },
  {
   "cell_type": "code",
   "execution_count": 123,
   "metadata": {},
   "outputs": [
    {
     "data": {
      "text/plain": [
       "11"
      ]
     },
     "execution_count": 123,
     "metadata": {},
     "output_type": "execute_result"
    }
   ],
   "source": [
    "list(dataFrame_obj.qid1)[5]"
   ]
  },
  {
   "cell_type": "code",
   "execution_count": 124,
   "metadata": {},
   "outputs": [
    {
     "data": {
      "text/plain": [
       "array([ 0.02902938, -0.0112369 , -0.00246853, -0.06515623, -0.03764345,\n",
       "        0.02697499,  0.00324297,  0.0461738 ,  0.02616704, -0.00604337],\n",
       "      dtype=float32)"
      ]
     },
     "execution_count": 124,
     "metadata": {},
     "output_type": "execute_result"
    }
   ],
   "source": [
    "d[11][:10]"
   ]
  },
  {
   "cell_type": "code",
   "execution_count": null,
   "metadata": {},
   "outputs": [],
   "source": []
  },
  {
   "cell_type": "code",
   "execution_count": null,
   "metadata": {},
   "outputs": [],
   "source": []
  }
 ],
 "metadata": {
  "kernelspec": {
   "display_name": "Python 3",
   "language": "python",
   "name": "python3"
  },
  "language_info": {
   "codemirror_mode": {
    "name": "ipython",
    "version": 3
   },
   "file_extension": ".py",
   "mimetype": "text/x-python",
   "name": "python",
   "nbconvert_exporter": "python",
   "pygments_lexer": "ipython3",
   "version": "3.6.5"
  }
 },
 "nbformat": 4,
 "nbformat_minor": 2
}
